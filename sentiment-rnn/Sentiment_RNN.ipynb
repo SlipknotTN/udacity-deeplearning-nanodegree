{
 "cells": [
  {
   "cell_type": "markdown",
   "metadata": {},
   "source": [
    "# Sentiment Analysis with an RNN\n",
    "\n",
    "In this notebook, you'll implement a recurrent neural network that performs sentiment analysis. Using an RNN rather than a feedfoward network is more accurate since we can include information about the *sequence* of words. Here we'll use a dataset of movie reviews, accompanied by labels.\n",
    "\n",
    "The architecture for this network is shown below.\n",
    "\n",
    "<img src=\"assets/network_diagram.png\" width=400px>\n",
    "\n",
    "Here, we'll pass in words to an embedding layer. We need an embedding layer because we have tens of thousands of words, so we'll need a more efficient representation for our input data than one-hot encoded vectors. You should have seen this before from the word2vec lesson. You can actually train up an embedding with word2vec and use it here. But it's good enough to just have an embedding layer and let the network learn the embedding table on it's own.\n",
    "\n",
    "From the embedding layer, the new representations will be passed to LSTM cells. These will add recurrent connections to the network so we can include information about the sequence of words in the data. Finally, the LSTM cells will go to a sigmoid output layer here. We're using the sigmoid because we're trying to predict if this text has positive or negative sentiment. The output layer will just be a single unit then, with a sigmoid activation function.\n",
    "\n",
    "We don't care about the sigmoid outputs except for the very last one, we can ignore the rest. We'll calculate the cost from the output of the last step and the training label."
   ]
  },
  {
   "cell_type": "code",
   "execution_count": 322,
   "metadata": {
    "collapsed": true
   },
   "outputs": [],
   "source": [
    "import numpy as np\n",
    "import tensorflow as tf"
   ]
  },
  {
   "cell_type": "code",
   "execution_count": 323,
   "metadata": {
    "collapsed": false,
    "deletable": true,
    "editable": true
   },
   "outputs": [],
   "source": [
    "with open('../sentiment-network/reviews.txt', 'r') as f:\n",
    "    reviews = f.read()\n",
    "with open('../sentiment-network/labels.txt', 'r') as f:\n",
    "    labels = f.read()"
   ]
  },
  {
   "cell_type": "code",
   "execution_count": 324,
   "metadata": {
    "collapsed": false,
    "deletable": true,
    "editable": true
   },
   "outputs": [
    {
     "data": {
      "text/plain": [
       "'bromwell high is a cartoon comedy . it ran at the same time as some other programs about school life  such as  teachers  . my   years in the teaching profession lead me to believe that bromwell high  s satire is much closer to reality than is  teachers  . the scramble to survive financially  the insightful students who can see right through their pathetic teachers  pomp  the pettiness of the whole situation  all remind me of the schools i knew and their students . when i saw the episode in which a student repeatedly tried to burn down the school  i immediately recalled . . . . . . . . . at . . . . . . . . . . high . a classic line inspector i  m here to sack one of your teachers . student welcome to bromwell high . i expect that many adults of my age think that bromwell high is far fetched . what a pity that it isn  t   \\nstory of a man who has unnatural feelings for a pig . starts out with a opening scene that is a terrific example of absurd comedy . a formal orchestra audience is turned into an insane  violent mob by the crazy chantings of it  s singers . unfortunately it stays absurd the whole time with no general narrative eventually making it just too off putting . even those from the era should be turned off . the cryptic dialogue would make shakespeare seem easy to a third grader . on a technical level it  s better than you might think with some good cinematography by future great vilmos zsigmond . future stars sally kirkland and frederic forrest can be seen briefly .  \\nhomelessness  or houselessness as george carlin stated  has been an issue for years but never a plan to help those on the street that were once considered human who did everything from going to school  work  or vote for the matter . most people think of the homeless as just a lost cause while worrying about things such as racism  the war on iraq  pressuring kids to succeed  technology  the elections  inflation  or worrying if they  ll be next to end up on the streets .  br    br   but what if y'"
      ]
     },
     "execution_count": 324,
     "metadata": {},
     "output_type": "execute_result"
    }
   ],
   "source": [
    "reviews[:2000]"
   ]
  },
  {
   "cell_type": "markdown",
   "metadata": {},
   "source": [
    "## Data preprocessing\n",
    "\n",
    "The first step when building a neural network model is getting your data into the proper form to feed into the network. Since we're using embedding layers, we'll need to encode each word with an integer. We'll also want to clean it up a bit.\n",
    "\n",
    "You can see an example of the reviews data above. We'll want to get rid of those periods. Also, you might notice that the reviews are delimited with newlines `\\n`. To deal with those, I'm going to split the text into each review using `\\n` as the delimiter. Then I can combined all the reviews back together into one big string.\n",
    "\n",
    "First, let's remove all punctuation. Then get all the text without the newlines and split it into individual words."
   ]
  },
  {
   "cell_type": "code",
   "execution_count": 325,
   "metadata": {
    "collapsed": true
   },
   "outputs": [],
   "source": [
    "from string import punctuation\n",
    "all_text = ''.join([c for c in reviews if c not in punctuation])\n",
    "reviews = all_text.split('\\n')\n",
    "\n",
    "all_text = ' '.join(reviews)\n",
    "words = all_text.split()"
   ]
  },
  {
   "cell_type": "code",
   "execution_count": 326,
   "metadata": {
    "collapsed": false,
    "deletable": true,
    "editable": true
   },
   "outputs": [
    {
     "data": {
      "text/plain": [
       "'bromwell high is a cartoon comedy  it ran at the same time as some other programs about school life  such as  teachers   my   years in the teaching profession lead me to believe that bromwell high  s satire is much closer to reality than is  teachers   the scramble to survive financially  the insightful students who can see right through their pathetic teachers  pomp  the pettiness of the whole situation  all remind me of the schools i knew and their students  when i saw the episode in which a student repeatedly tried to burn down the school  i immediately recalled          at           high  a classic line inspector i  m here to sack one of your teachers  student welcome to bromwell high  i expect that many adults of my age think that bromwell high is far fetched  what a pity that it isn  t    story of a man who has unnatural feelings for a pig  starts out with a opening scene that is a terrific example of absurd comedy  a formal orchestra audience is turned into an insane  violent mob by the crazy chantings of it  s singers  unfortunately it stays absurd the whole time with no general narrative eventually making it just too off putting  even those from the era should be turned off  the cryptic dialogue would make shakespeare seem easy to a third grader  on a technical level it  s better than you might think with some good cinematography by future great vilmos zsigmond  future stars sally kirkland and frederic forrest can be seen briefly    homelessness  or houselessness as george carlin stated  has been an issue for years but never a plan to help those on the street that were once considered human who did everything from going to school  work  or vote for the matter  most people think of the homeless as just a lost cause while worrying about things such as racism  the war on iraq  pressuring kids to succeed  technology  the elections  inflation  or worrying if they  ll be next to end up on the streets   br    br   but what if you were given a bet to live on the st'"
      ]
     },
     "execution_count": 326,
     "metadata": {},
     "output_type": "execute_result"
    }
   ],
   "source": [
    "all_text[:2000]"
   ]
  },
  {
   "cell_type": "code",
   "execution_count": 327,
   "metadata": {
    "collapsed": false,
    "deletable": true,
    "editable": true
   },
   "outputs": [
    {
     "data": {
      "text/plain": [
       "['bromwell',\n",
       " 'high',\n",
       " 'is',\n",
       " 'a',\n",
       " 'cartoon',\n",
       " 'comedy',\n",
       " 'it',\n",
       " 'ran',\n",
       " 'at',\n",
       " 'the',\n",
       " 'same',\n",
       " 'time',\n",
       " 'as',\n",
       " 'some',\n",
       " 'other',\n",
       " 'programs',\n",
       " 'about',\n",
       " 'school',\n",
       " 'life',\n",
       " 'such',\n",
       " 'as',\n",
       " 'teachers',\n",
       " 'my',\n",
       " 'years',\n",
       " 'in',\n",
       " 'the',\n",
       " 'teaching',\n",
       " 'profession',\n",
       " 'lead',\n",
       " 'me',\n",
       " 'to',\n",
       " 'believe',\n",
       " 'that',\n",
       " 'bromwell',\n",
       " 'high',\n",
       " 's',\n",
       " 'satire',\n",
       " 'is',\n",
       " 'much',\n",
       " 'closer',\n",
       " 'to',\n",
       " 'reality',\n",
       " 'than',\n",
       " 'is',\n",
       " 'teachers',\n",
       " 'the',\n",
       " 'scramble',\n",
       " 'to',\n",
       " 'survive',\n",
       " 'financially',\n",
       " 'the',\n",
       " 'insightful',\n",
       " 'students',\n",
       " 'who',\n",
       " 'can',\n",
       " 'see',\n",
       " 'right',\n",
       " 'through',\n",
       " 'their',\n",
       " 'pathetic',\n",
       " 'teachers',\n",
       " 'pomp',\n",
       " 'the',\n",
       " 'pettiness',\n",
       " 'of',\n",
       " 'the',\n",
       " 'whole',\n",
       " 'situation',\n",
       " 'all',\n",
       " 'remind',\n",
       " 'me',\n",
       " 'of',\n",
       " 'the',\n",
       " 'schools',\n",
       " 'i',\n",
       " 'knew',\n",
       " 'and',\n",
       " 'their',\n",
       " 'students',\n",
       " 'when',\n",
       " 'i',\n",
       " 'saw',\n",
       " 'the',\n",
       " 'episode',\n",
       " 'in',\n",
       " 'which',\n",
       " 'a',\n",
       " 'student',\n",
       " 'repeatedly',\n",
       " 'tried',\n",
       " 'to',\n",
       " 'burn',\n",
       " 'down',\n",
       " 'the',\n",
       " 'school',\n",
       " 'i',\n",
       " 'immediately',\n",
       " 'recalled',\n",
       " 'at',\n",
       " 'high']"
      ]
     },
     "execution_count": 327,
     "metadata": {},
     "output_type": "execute_result"
    }
   ],
   "source": [
    "words[:100]"
   ]
  },
  {
   "cell_type": "markdown",
   "metadata": {},
   "source": [
    "### Encoding the words\n",
    "\n",
    "The embedding lookup requires that we pass in integers to our network. The easiest way to do this is to create dictionaries that map the words in the vocabulary to integers. Then we can convert each of our reviews into integers so they can be passed into the network.\n",
    "\n",
    "> **Exercise:** Now you're going to encode the words with integers. Build a dictionary that maps words to integers. Later we're going to pad our input vectors with zeros, so make sure the integers **start at 1, not 0**.\n",
    "> Also, convert the reviews to integers and store the reviews in a new list called `reviews_ints`. "
   ]
  },
  {
   "cell_type": "code",
   "execution_count": 328,
   "metadata": {
    "collapsed": false,
    "deletable": true,
    "editable": true
   },
   "outputs": [],
   "source": [
    "# Create your dictionary that maps vocab words to integers here\n",
    "vocab_to_int = {word: index + 1 for index, word in enumerate(set(words))}\n",
    "\n",
    "# Convert the reviews to integers, same shape as reviews list, but with integers\n",
    "#print(reviews[:1])\n",
    "#print(len(reviews))\n",
    "\n",
    "reviews_ints = list()\n",
    "for review in reviews:\n",
    "    single_review_ints = list()\n",
    "    for word in review.split():\n",
    "        single_review_ints.append(vocab_to_int[word])\n",
    "    reviews_ints.append(single_review_ints)\n",
    "#print(reviews_ints[:1])"
   ]
  },
  {
   "cell_type": "markdown",
   "metadata": {},
   "source": [
    "### Encoding the labels\n",
    "\n",
    "Our labels are \"positive\" or \"negative\". To use these labels in our network, we need to convert them to 0 and 1.\n",
    "\n",
    "> **Exercise:** Convert labels from `positive` and `negative` to 1 and 0, respectively."
   ]
  },
  {
   "cell_type": "code",
   "execution_count": 329,
   "metadata": {
    "collapsed": false,
    "deletable": true,
    "editable": true
   },
   "outputs": [
    {
     "name": "stdout",
     "output_type": "stream",
     "text": [
      "[1 0 1 0 1]\n",
      "25000\n"
     ]
    }
   ],
   "source": [
    "# Convert labels to 1s and 0s for 'positive' and 'negative'\n",
    "# Needs np.array to work (doesn't work as plain list)\n",
    "labels = np.array([1 if label == 'positive' else 0 for label in labels.split()])\n",
    "print(labels[:5])\n",
    "print(len(labels))"
   ]
  },
  {
   "cell_type": "markdown",
   "metadata": {},
   "source": [
    "If you built `labels` correctly, you should see the next output."
   ]
  },
  {
   "cell_type": "code",
   "execution_count": 330,
   "metadata": {
    "collapsed": false,
    "deletable": true,
    "editable": true
   },
   "outputs": [
    {
     "name": "stdout",
     "output_type": "stream",
     "text": [
      "Zero-length reviews: 1\n",
      "Maximum review length: 2514\n"
     ]
    }
   ],
   "source": [
    "from collections import Counter\n",
    "review_lens = Counter([len(x) for x in reviews_ints])\n",
    "print(\"Zero-length reviews: {}\".format(review_lens[0]))\n",
    "print(\"Maximum review length: {}\".format(max(review_lens)))"
   ]
  },
  {
   "cell_type": "markdown",
   "metadata": {},
   "source": [
    "Okay, a couple issues here. We seem to have one review with zero length. And, the maximum review length is way too many steps for our RNN. Let's truncate to 200 steps. For reviews shorter than 200, we'll pad with 0s. For reviews longer than 200, we can truncate them to the first 200 characters.\n",
    "\n",
    "> **Exercise:** First, remove the review with zero length from the `reviews_ints` list."
   ]
  },
  {
   "cell_type": "code",
   "execution_count": 331,
   "metadata": {
    "collapsed": false,
    "deletable": true,
    "editable": true
   },
   "outputs": [
    {
     "name": "stdout",
     "output_type": "stream",
     "text": [
      "25001\n",
      "25000\n"
     ]
    }
   ],
   "source": [
    "# Filter out that review with 0 length\n",
    "print(len(reviews_ints))\n",
    "reviews_ints.remove([])\n",
    "print(len(reviews_ints))\n",
    "\n",
    "# Remove from labels?! Labels is already #25000 (it is 25001 is we split on '\\n')"
   ]
  },
  {
   "cell_type": "markdown",
   "metadata": {},
   "source": [
    "> **Exercise:** Now, create an array `features` that contains the data we'll pass to the network. The data should come from `review_ints`, since we want to feed integers to the network. Each row should be 200 elements long. For reviews shorter than 200 words, left pad with 0s. That is, if the review is `['best', 'movie', 'ever']`, `[117, 18, 128]` as integers, the row will look like `[0, 0, 0, ..., 0, 117, 18, 128]`. For reviews longer than 200, use on the first 200 words as the feature vector.\n",
    "\n",
    "This isn't trivial and there are a bunch of ways to do this. But, if you're going to be building your own deep learning networks, you're going to have to get used to preparing your data.\n",
    "\n"
   ]
  },
  {
   "cell_type": "code",
   "execution_count": 332,
   "metadata": {
    "collapsed": false,
    "deletable": true,
    "editable": true
   },
   "outputs": [],
   "source": [
    "seq_len = 200\n",
    "features = list()\n",
    "\n",
    "for index, review_ints in enumerate(reviews_ints):\n",
    "    review_length = len(review_ints)\n",
    "    if review_length < 200:\n",
    "        padding = [0] * (seq_len - review_length)\n",
    "        padding.extend(review_ints)\n",
    "        features.append([])\n",
    "        features[-1].extend(padding)\n",
    "    else:\n",
    "        features.append([])\n",
    "        features[-1].extend(review_ints[:200])\n",
    "\n",
    "features = np.asarray(features)"
   ]
  },
  {
   "cell_type": "markdown",
   "metadata": {},
   "source": [
    "If you build features correctly, it should look like that cell output below."
   ]
  },
  {
   "cell_type": "code",
   "execution_count": 333,
   "metadata": {
    "collapsed": false,
    "deletable": true,
    "editable": true
   },
   "outputs": [
    {
     "data": {
      "text/plain": [
       "array([[    0,     0,     0,     0,     0,     0,     0,     0,     0,\n",
       "            0,     0,     0,     0,     0,     0,     0,     0,     0,\n",
       "            0,     0,     0,     0,     0,     0,     0,     0,     0,\n",
       "            0,     0,     0,     0,     0,     0,     0,     0,     0,\n",
       "            0,     0,     0,     0,     0,     0,     0,     0,     0,\n",
       "            0,     0,     0,     0,     0,     0,     0,     0,     0,\n",
       "            0,     0,     0,     0,     0,     0, 26651, 11855, 66202,\n",
       "        66143, 70486,  9692, 57326, 17615, 31835, 60020, 38741, 39035,\n",
       "        37486, 37330, 48076, 38065, 34104, 18613,  8552, 53832, 37486,\n",
       "        48043, 44275, 53239,  9636, 60020, 42557, 44059, 33885, 30747,\n",
       "        72043, 39461, 20673, 26651, 11855,  9537, 57483, 66202, 53013,\n",
       "        24905],\n",
       "       [    0,     0,     0,     0,     0,     0,     0,     0,     0,\n",
       "            0,     0,     0,     0,     0,     0,     0,     0,     0,\n",
       "            0,     0,     0,     0,     0,     0,     0,     0,     0,\n",
       "            0,     0,     0,     0,     0,     0,     0,     0,     0,\n",
       "            0,     0,     0,     0,     0,     0,     0,     0,     0,\n",
       "            0,     0,     0,     0,     0,     0,     0,     0,     0,\n",
       "            0,     0,     0,     0,     0,     0,     0,     0,     0,\n",
       "            0,     0,     0,     0,     0,     0,     0,     0,     0,\n",
       "            0,     0,     0,     0,     0,     0,     0,     0,     0,\n",
       "            0,     0,     0,     0,     0, 47439, 12377, 66143, 15799,\n",
       "        41607, 67019, 36326, 37682, 22496, 66143, 18708, 69284, 70981,\n",
       "        72233],\n",
       "       [69774, 45449,  6954, 37486, 55177, 44754, 47301, 67019, 14872,\n",
       "        56243, 20259, 22496, 53239, 20736, 66361, 66143, 68166, 72043,\n",
       "        54920, 56430, 56433, 60020, 24563, 20673, 16465, 34827,  4355,\n",
       "        48310, 41607, 34455, 63008, 69787, 60376, 72043, 18613, 39499,\n",
       "        45449, 10657, 22496, 60020, 42383, 39509, 45305, 70864, 12377,\n",
       "        60020, 51106, 37486, 58696, 66143, 34213, 56869, 73814,   215,\n",
       "        34104, 14149, 53832, 37486, 40457, 60020, 39823, 56433, 62859,\n",
       "         7459, 44921, 72043, 35982,  3861, 60020, 32781, 10532, 45449,\n",
       "          215, 39020,  7589,   810, 66683, 20338, 72043, 59590, 15717,\n",
       "        56433, 60020, 49983, 29968, 29968, 20736, 46329, 39020, 49548,\n",
       "        16465, 66068, 66143, 32905, 72043, 57856, 56433, 60020, 49983,\n",
       "        22496],\n",
       "       [59412, 69284, 37486, 66143, 10777, 34698, 27922, 18235, 66202,\n",
       "         5593, 15717, 72233, 46939, 47347, 53832, 61257, 72043, 53206,\n",
       "           55, 70449, 19748, 60791, 48733, 41607, 66202, 28360, 37991,\n",
       "        66143, 25969, 12377, 63513,  9537, 72043, 47606, 24337,  9636,\n",
       "        70358, 12377, 57326, 12220, 69809, 72043, 60020, 30078, 37486,\n",
       "        66143, 52068, 37792, 56433, 36115, 66202, 19748, 47567, 72033,\n",
       "        24056, 64143, 40215, 53935, 60020, 27922, 58616, 68290, 23364,\n",
       "        37486, 64643, 20736, 63972, 22753, 60020, 18235, 66202,  9598,\n",
       "        17011, 70688, 60020, 15969, 56376, 50470, 11339, 56360, 47606,\n",
       "        70127, 40017,  9537,   835,  2640, 70167, 26661, 40351, 12192,\n",
       "        41607,  2039, 60020,  9983,  3129, 70981, 72233, 41166, 26493,\n",
       "         7589],\n",
       "       [    0,     0,     0,     0,     0,     0,     0,     0,     0,\n",
       "            0,     0,     0,     0,     0,     0,     0,     0,     0,\n",
       "            0,     0,     0,     0,     0,     0,     0,     0,     0,\n",
       "            0,     0,     0,     0,     0,     0,     0,     0,     0,\n",
       "            0,     0,     0,     0,     0,     0,     0,     0,     0,\n",
       "            0,     0,     0,     0,     0, 15501, 73050, 57546, 70688,\n",
       "        40573, 42944, 69437, 43551, 47568, 73325, 11262, 70152, 12533,\n",
       "        38046, 59832, 23534, 16568, 66854,  9636, 37487,  3790, 14620,\n",
       "          251, 72043, 33704, 60020, 61858, 56433, 19288, 66202, 66143,\n",
       "        69891, 37486, 11551, 37486, 46485,  9636, 12104, 45757, 60020,\n",
       "        54278, 56433, 35251, 66202, 37792, 23166, 42712, 12220, 68059,\n",
       "        12377],\n",
       "       [    0,     0,     0,     0,     0,     0,     0,     0,     0,\n",
       "            0,     0,     0,     0,     0,     0,     0,     0,     0,\n",
       "            0,     0,     0,     0,     0,     0,     0,     0,     0,\n",
       "            0,     0,     0,     0,     0,     0,     0,     0,     0,\n",
       "            0,     0,     0,     0,     0,     0,     0,     0,     0,\n",
       "            0,     0,     0,     0,     0,     0,     0,     0,     0,\n",
       "        21427, 18616, 10577, 43872, 70152, 54720,  1239, 11479, 44275,\n",
       "        52511, 56433, 31835, 41523, 33736, 56433, 60020, 62395, 12377,\n",
       "        60020, 52637, 41713, 21427, 43132, 73110, 72043, 71749, 12377,\n",
       "        61857, 40594, 57484,  4645, 60020, 71192, 72233, 40215, 52637,\n",
       "        15799, 13600, 60020, 65226, 66854, 10962, 44212, 37486, 12220,\n",
       "         9499],\n",
       "       [    0,     0,     0,     0,     0,     0,     0,     0,     0,\n",
       "            0,     0,     0,     0,     0,     0,     0,     0,     0,\n",
       "            0,     0,     0,     0,     0,     0,     0,     0,     0,\n",
       "            0,     0,     0,     0,     0,     0,     0,     0,     0,\n",
       "            0,     0,     0,     0,     0,     0,     0,     0,     0,\n",
       "            0,     0,     0,     0,     0,     0,     0,     0,     0,\n",
       "            0,     0,     0,     0,     0,     0,     0,     0,     0,\n",
       "            0,     0,     0,     0,     0,     0,     0,     0,     0,\n",
       "            0,     0,     0,     0, 21427, 66202, 13144, 60020, 39509,\n",
       "        30735, 18616, 55046, 60020, 71710,  6678,   403, 37808, 51803,\n",
       "        57326, 62594, 48494, 15444, 66143, 37963, 66642, 12377, 69774,\n",
       "        26356],\n",
       "       [    0,     0,     0,     0,     0,     0,     0,     0,     0,\n",
       "            0,     0,     0,     0,     0,     0,     0,     0,     0,\n",
       "            0,     0,     0,     0,     0,     0,     0,     0,     0,\n",
       "            0,     0,     0,     0,     0,     0,     0,     0,     0,\n",
       "            0,     0,     0,     0,     0,     0,     0,     0,     0,\n",
       "            0,     0, 68246, 17693, 70152, 11615, 21427, 66202, 53929,\n",
       "        72043, 66683, 56243, 27095, 18616, 20736, 26903,  7589, 46411,\n",
       "        12533, 19589, 70981, 55389, 31835, 60020, 53594, 12607, 45305,\n",
       "        43493, 23855, 19452, 54406, 70981, 23534, 48494, 61174, 49418,\n",
       "        60020, 11730,  4184, 23534, 15351, 58810, 19732, 51703, 21427,\n",
       "        47439, 66202, 32900, 43772, 72043, 61174, 60020, 55712, 12377,\n",
       "        66143],\n",
       "       [    0,     0,     0,     0,     0,     0,     0,     0,     0,\n",
       "            0,     0,     0,     0,     0,     0,     0,     0,     0,\n",
       "            0,     0,     0,     0,     0,     0,     0,     0,     0,\n",
       "            0,     0,     0,     0,     0,     0,     0,     0,     0,\n",
       "            0,     0,     0,     0,     0,     0,     0,     0,     0,\n",
       "            0,     0,     0,     0,     0,     0,     0,     0,     0,\n",
       "            0,     0,     0,     0,     0,     0,     0,     0,     0,\n",
       "            0,     0,     0,     0,     0,     0,     0,     0,     0,\n",
       "            0,     0,     0,     0,     0,     0,     0, 21427, 66202,\n",
       "        48494, 60020, 48762, 46413, 71710, 18616, 57326, 19732, 53013,\n",
       "        18878, 49499, 61544, 39509, 12377, 47606, 64311, 23534, 11666,\n",
       "        34161],\n",
       "       [40594, 70152, 19732, 25692, 44275,  8027, 48323, 30747, 37713,\n",
       "        72043, 60020, 45832, 72043, 20140, 73398, 57326, 19732, 58499,\n",
       "        12377, 68198, 64311, 70152, 70404, 72233, 44275,  8027, 20736,\n",
       "        21427, 19732, 60020, 30592, 58499, 65072, 40708, 70981, 12377,\n",
       "         5046,  9012, 70152, 34161, 66361, 59832, 73398, 33899, 58696,\n",
       "        48935, 23534, 70152, 43493, 12533, 10771, 70981, 60020, 15871,\n",
       "        12377, 44275,  8552, 11137, 57326, 46329, 66143, 49462, 26461,\n",
       "        23534, 43032, 32342,  5986, 12377,  9537, 64437, 23534, 26597,\n",
       "        51564, 50501, 52683, 66202, 58499, 12377, 44275, 35289, 66544,\n",
       "        20736, 73398, 66202, 70688, 19556, 60020, 56538,  5986, 12377,\n",
       "        29829, 12377, 47606, 21827,  9636, 60020, 62385, 33743, 12377,\n",
       "         2338]])"
      ]
     },
     "execution_count": 333,
     "metadata": {},
     "output_type": "execute_result"
    }
   ],
   "source": [
    "features[:10,:100]"
   ]
  },
  {
   "cell_type": "markdown",
   "metadata": {},
   "source": [
    "## Training, Validation, Test\n"
   ]
  },
  {
   "cell_type": "markdown",
   "metadata": {},
   "source": [
    "With our data in nice shape, we'll split it into training, validation, and test sets.\n",
    "\n",
    "> **Exercise:** Create the training, validation, and test sets here. You'll need to create sets for the features and the labels, `train_x` and `train_y` for example. Define a split fraction, `split_frac` as the fraction of data to keep in the training set. Usually this is set to 0.8 or 0.9. The rest of the data will be split in half to create the validation and testing data."
   ]
  },
  {
   "cell_type": "code",
   "execution_count": 334,
   "metadata": {
    "collapsed": false,
    "deletable": true,
    "editable": true
   },
   "outputs": [
    {
     "name": "stdout",
     "output_type": "stream",
     "text": [
      "20000\n",
      "22500\n",
      "25000\n",
      "25000\n",
      "(25000, 200)\n",
      "(25000,)\n",
      "\t\t\tFeature Shapes:\n",
      "Train set: \t\t(20000, 200) \n",
      "Validation set: \t(2500, 200) \n",
      "Test set: \t\t(2500, 200)\n"
     ]
    }
   ],
   "source": [
    "split_frac = 0.8\n",
    "\n",
    "featuresLen = len(features)\n",
    "\n",
    "split_idx = int(featuresLen * split_frac)\n",
    "print(split_idx)\n",
    "test_idx = int(featuresLen * (split_frac + (1 - split_frac) / 2))\n",
    "print(test_idx)\n",
    "\n",
    "print(len(features))\n",
    "print(len(labels))\n",
    "\n",
    "print(features.shape)\n",
    "print(labels.shape)\n",
    "\n",
    "train_x, val_x = features[:split_idx], features[split_idx : test_idx]\n",
    "train_y, val_y = labels[:split_idx], labels[split_idx : test_idx]\n",
    "\n",
    "test_x = features[test_idx:]\n",
    "test_y = labels[test_idx:]\n",
    "\n",
    "print(\"\\t\\t\\tFeature Shapes:\")\n",
    "print(\"Train set: \\t\\t{}\".format(train_x.shape), \n",
    "      \"\\nValidation set: \\t{}\".format(val_x.shape),\n",
    "      \"\\nTest set: \\t\\t{}\".format(test_x.shape))"
   ]
  },
  {
   "cell_type": "markdown",
   "metadata": {},
   "source": [
    "With train, validation, and text fractions of 0.8, 0.1, 0.1, the final shapes should look like:\n",
    "```\n",
    "                    Feature Shapes:\n",
    "Train set: \t\t (20000, 200) \n",
    "Validation set: \t(2500, 200) \n",
    "Test set: \t\t  (2500, 200)\n",
    "```"
   ]
  },
  {
   "cell_type": "markdown",
   "metadata": {},
   "source": [
    "## Build the graph\n",
    "\n",
    "Here, we'll build the graph. First up, defining the hyperparameters.\n",
    "\n",
    "* `lstm_size`: Number of units in the hidden layers in the LSTM cells. Usually larger is better performance wise. Common values are 128, 256, 512, etc.\n",
    "* `lstm_layers`: Number of LSTM layers in the network. I'd start with 1, then add more if I'm underfitting.\n",
    "* `batch_size`: The number of reviews to feed the network in one training pass. Typically this should be set as high as you can go without running out of memory.\n",
    "* `learning_rate`: Learning rate"
   ]
  },
  {
   "cell_type": "code",
   "execution_count": 335,
   "metadata": {
    "collapsed": true
   },
   "outputs": [],
   "source": [
    "lstm_size = 256\n",
    "lstm_layers = 1\n",
    "batch_size = 500\n",
    "learning_rate = 0.001"
   ]
  },
  {
   "cell_type": "markdown",
   "metadata": {},
   "source": [
    "For the network itself, we'll be passing in our 200 element long review vectors. Each batch will be `batch_size` vectors. We'll also be using dropout on the LSTM layer, so we'll make a placeholder for the keep probability."
   ]
  },
  {
   "cell_type": "markdown",
   "metadata": {},
   "source": [
    "> **Exercise:** Create the `inputs_`, `labels_`, and drop out `keep_prob` placeholders using `tf.placeholder`. `labels_` needs to be two-dimensional to work with some functions later.  Since `keep_prob` is a scalar (a 0-dimensional tensor), you shouldn't provide a size to `tf.placeholder`."
   ]
  },
  {
   "cell_type": "code",
   "execution_count": 336,
   "metadata": {
    "collapsed": false,
    "deletable": true,
    "editable": true
   },
   "outputs": [
    {
     "name": "stdout",
     "output_type": "stream",
     "text": [
      "74073\n"
     ]
    }
   ],
   "source": [
    "#n_words = len(vocab)\n",
    "# +1 because we have the padding word (index 0)\n",
    "n_words = len(set(words)) + 1\n",
    "\n",
    "print(n_words)\n",
    "#Fix added in newer commit by udacity\n",
    "#n_words = len(vocab_to_int)\n",
    "\n",
    "# Create the graph object\n",
    "graph = tf.Graph()\n",
    "# Add nodes to the graph\n",
    "with graph.as_default():\n",
    "    # batch_size x review_length (one_hot encoding review)\n",
    "    inputs_ = tf.placeholder(tf.int32, [None, seq_len], name='inputs')\n",
    "    labels_ = tf.placeholder(tf.int32, [None, 1], name='labels')\n",
    "    keep_prob = tf.placeholder(tf.float32, name='keep_prob')"
   ]
  },
  {
   "cell_type": "markdown",
   "metadata": {},
   "source": [
    "### Embedding\n",
    "\n",
    "Now we'll add an embedding layer. We need to do this because there are 74000 words in our vocabulary. It is massively inefficient to one-hot encode our classes here. You should remember dealing with this problem from the word2vec lesson. Instead of one-hot encoding, we can have an embedding layer and use that layer as a lookup table. You could train an embedding layer using word2vec, then load it here. But, it's fine to just make a new layer and let the network learn the weights.\n",
    "\n",
    "> **Exercise:** Create the embedding lookup matrix as a `tf.Variable`. Use that embedding matrix to get the embedded vectors to pass to the LSTM cell with [`tf.nn.embedding_lookup`](https://www.tensorflow.org/api_docs/python/tf/nn/embedding_lookup). This function takes the embedding matrix and an input tensor, such as the review vectors. Then, it'll return another tensor with the embedded vectors. So, if the embedding layer has 300 units, the function will return a tensor with size [batch_size, 300].\n",
    "\n"
   ]
  },
  {
   "cell_type": "code",
   "execution_count": 337,
   "metadata": {
    "collapsed": false,
    "deletable": true,
    "editable": true
   },
   "outputs": [],
   "source": [
    "# Size of the embedding vectors (number of units in the embedding layer)\n",
    "embed_size = 300 \n",
    "\n",
    "with graph.as_default():\n",
    "    embedding = tf.Variable(tf.random_uniform((n_words, embed_size), -1, 1))\n",
    "    embed = tf.nn.embedding_lookup(embedding, inputs_)"
   ]
  },
  {
   "cell_type": "markdown",
   "metadata": {},
   "source": [
    "### LSTM cell\n",
    "\n",
    "<img src=\"assets/network_diagram.png\" width=400px>\n",
    "\n",
    "Next, we'll create our LSTM cells to use in the recurrent network ([TensorFlow documentation](https://www.tensorflow.org/api_docs/python/tf/contrib/rnn)). Here we are just defining what the cells look like. This isn't actually building the graph, just defining the type of cells we want in our graph.\n",
    "\n",
    "To create a basic LSTM cell for the graph, you'll want to use `tf.contrib.rnn.BasicLSTMCell`. Looking at the function documentation:\n",
    "\n",
    "```\n",
    "tf.contrib.rnn.BasicLSTMCell(num_units, forget_bias=1.0, input_size=None, state_is_tuple=True, activation=<function tanh at 0x109f1ef28>)\n",
    "```\n",
    "\n",
    "you can see it takes a parameter called `num_units`, the number of units in the cell, called `lstm_size` in this code. So then, you can write something like \n",
    "\n",
    "```\n",
    "lstm = tf.contrib.rnn.BasicLSTMCell(num_units)\n",
    "```\n",
    "\n",
    "to create an LSTM cell with `num_units`. Next, you can add dropout to the cell with `tf.contrib.rnn.DropoutWrapper`. This just wraps the cell in another cell, but with dropout added to the inputs and/or outputs. It's a really convenient way to make your network better with almost no effort! So you'd do something like\n",
    "\n",
    "```\n",
    "drop = tf.contrib.rnn.DropoutWrapper(cell, output_keep_prob=keep_prob)\n",
    "```\n",
    "\n",
    "Most of the time, your network will have better performance with more layers. That's sort of the magic of deep learning, adding more layers allows the network to learn really complex relationships. Again, there is a simple way to create multiple layers of LSTM cells with `tf.contrib.rnn.MultiRNNCell`:\n",
    "\n",
    "```\n",
    "cell = tf.contrib.rnn.MultiRNNCell([drop] * lstm_layers)\n",
    "```\n",
    "\n",
    "Here, `[drop] * lstm_layers` creates a list of cells (`drop`) that is `lstm_layers` long. The `MultiRNNCell` wrapper builds this into multiple layers of RNN cells, one for each cell in the list.\n",
    "\n",
    "So the final cell you're using in the network is actually multiple (or just one) LSTM cells with dropout. But it all works the same from an achitectural viewpoint, just a more complicated graph in the cell.\n",
    "\n",
    "> **Exercise:** Below, use `tf.contrib.rnn.BasicLSTMCell` to create an LSTM cell. Then, add drop out to it with `tf.contrib.rnn.DropoutWrapper`. Finally, create multiple LSTM layers with `tf.contrib.rnn.MultiRNNCell`.\n",
    "\n",
    "Here is [a tutorial on building RNNs](https://www.tensorflow.org/tutorials/recurrent) that will help you out.\n"
   ]
  },
  {
   "cell_type": "code",
   "execution_count": 338,
   "metadata": {
    "collapsed": false,
    "deletable": true,
    "editable": true
   },
   "outputs": [
    {
     "name": "stdout",
     "output_type": "stream",
     "text": [
      "(LSTMStateTuple(c=<tf.Tensor 'zeros:0' shape=(500, 256) dtype=float32>, h=<tf.Tensor 'zeros_1:0' shape=(500, 256) dtype=float32>),)\n"
     ]
    }
   ],
   "source": [
    "with graph.as_default():\n",
    "    # Your basic LSTM cell\n",
    "    # input_size is deprecated (automatically detected?!). The input is the embed, so batch_size x embed_size\n",
    "    # Every LSTM get a single word (length is embed_size because we use embedding instead of one-hot vector)\n",
    "    # When we use batch_size > 1, every LSTM get all the nth-word of all the batches\n",
    "    #lstm = tf.contrib.rnn.BasicLSTMCell(num_units=lstm_size, input_size=(batch_size, embed_size))\n",
    "    lstm = tf.contrib.rnn.BasicLSTMCell(num_units=lstm_size)\n",
    "    \n",
    "    # Add dropout to the cell\n",
    "    drop = tf.contrib.rnn.DropoutWrapper(cell=lstm, output_keep_prob=keep_prob)\n",
    "    \n",
    "    # Stack up multiple LSTM layers, for deep learning\n",
    "    cell = tf.contrib.rnn.MultiRNNCell([drop] * lstm_layers)\n",
    "    \n",
    "    # Getting an initial state of all zeros\n",
    "    initial_state = cell.zero_state(batch_size, tf.float32)\n",
    "\n",
    "# Initial state shape: batch_size x lstm_size.\n",
    "print(initial_state)"
   ]
  },
  {
   "cell_type": "markdown",
   "metadata": {},
   "source": [
    "### RNN forward pass\n",
    "\n",
    "<img src=\"assets/network_diagram.png\" width=400px>\n",
    "\n",
    "Now we need to actually run the data through the RNN nodes. You can use [`tf.nn.dynamic_rnn`](https://www.tensorflow.org/api_docs/python/tf/nn/dynamic_rnn) to do this. You'd pass in the RNN cell you created (our multiple layered LSTM `cell` for instance), and the inputs to the network.\n",
    "\n",
    "```\n",
    "outputs, final_state = tf.nn.dynamic_rnn(cell, inputs, initial_state=initial_state)\n",
    "```\n",
    "\n",
    "Above I created an initial state, `initial_state`, to pass to the RNN. This is the cell state that is passed between the hidden layers in successive time steps. `tf.nn.dynamic_rnn` takes care of most of the work for us. We pass in our cell and the input to the cell, then it does the unrolling and everything else for us. It returns outputs for each time step and the final_state of the hidden layer.\n",
    "\n",
    "> **Exercise:** Use `tf.nn.dynamic_rnn` to add the forward pass through the RNN. Remember that we're actually passing in vectors from the embedding layer, `embed`.\n",
    "\n"
   ]
  },
  {
   "cell_type": "code",
   "execution_count": 339,
   "metadata": {
    "collapsed": false,
    "deletable": true,
    "editable": true
   },
   "outputs": [
    {
     "name": "stdout",
     "output_type": "stream",
     "text": [
      "outputs shape: (500, 200, 256)\n",
      "final state shape: (LSTMStateTuple(c=<tf.Tensor 'rnn/while/Exit_2:0' shape=(500, 256) dtype=float32>, h=<tf.Tensor 'rnn/while/Exit_3:0' shape=(500, 256) dtype=float32>),)\n"
     ]
    }
   ],
   "source": [
    "# IMHO:\n",
    "# Embed gets \"inputs\" placeholder as input which has shape batch_size x review_length\n",
    "# tf.nn.dynamic_rnn creates #review_length LSTM in parallel\n",
    "with graph.as_default():\n",
    "    outputs, final_state = tf.nn.dynamic_rnn(cell=cell, inputs=embed, initial_state=initial_state)\n",
    "\n",
    "# Outputs shape is batch_size x review_length (max_time) x lstm_size.\n",
    "# It includes all the LSTMs (#review_length here).\n",
    "# Each LSTM output is lstm_size, but we have to consider also the batch_size.\n",
    "print(\"outputs shape: \" + str(outputs.shape))\n",
    "# Last LSTM state. Final state shape is batch_size x lstm_size\n",
    "print(\"final state shape: \" + str(final_state))"
   ]
  },
  {
   "cell_type": "markdown",
   "metadata": {},
   "source": [
    "### Output\n",
    "\n",
    "We only care about the final output, we'll be using that as our sentiment prediction. So we need to grab the last output with `outputs[:, -1]`, the calculate the cost from that and `labels_`."
   ]
  },
  {
   "cell_type": "code",
   "execution_count": 340,
   "metadata": {
    "collapsed": false,
    "deletable": true,
    "editable": true
   },
   "outputs": [
    {
     "name": "stdout",
     "output_type": "stream",
     "text": [
      "74072\n",
      "(500, 200, 256)\n",
      "(500, 256)\n",
      "(500, 1)\n"
     ]
    }
   ],
   "source": [
    "print(len(set(words)))\n",
    "with graph.as_default():\n",
    "    # outputs shape is batch_size x review_length x lstm_size,\n",
    "    # we pick the last LSTM output (batch_size x lstm_size)\n",
    "    print(outputs.shape)\n",
    "    print(outputs[:, -1].shape)\n",
    "    # Squash all single LSTM output values (#lstm_size) to single output and apply sigmoid.\n",
    "    predictions = tf.contrib.layers.fully_connected(outputs[:, -1], 1, activation_fn=tf.sigmoid)\n",
    "    # Predictions shape is batch_size x 1, so labels is 2D shape=(batch_size,)\n",
    "    print(predictions.shape)\n",
    "    cost = tf.losses.mean_squared_error(labels_, predictions)\n",
    "    \n",
    "    optimizer = tf.train.AdamOptimizer(learning_rate).minimize(cost)"
   ]
  },
  {
   "cell_type": "markdown",
   "metadata": {},
   "source": [
    "### Validation accuracy\n",
    "\n",
    "Here we can add a few nodes to calculate the accuracy which we'll use in the validation pass."
   ]
  },
  {
   "cell_type": "code",
   "execution_count": 341,
   "metadata": {
    "collapsed": false,
    "deletable": true,
    "editable": true
   },
   "outputs": [],
   "source": [
    "with graph.as_default():\n",
    "    correct_pred = tf.equal(tf.cast(tf.round(predictions), tf.int32), labels_)\n",
    "    accuracy = tf.reduce_mean(tf.cast(correct_pred, tf.float32))"
   ]
  },
  {
   "cell_type": "markdown",
   "metadata": {},
   "source": [
    "### Batching\n",
    "\n",
    "This is a simple function for returning batches from our data. First it removes data such that we only have full batches. Then it iterates through the `x` and `y` arrays and returns slices out of those arrays with size `[batch_size]`."
   ]
  },
  {
   "cell_type": "code",
   "execution_count": 342,
   "metadata": {
    "collapsed": true
   },
   "outputs": [],
   "source": [
    "def get_batches(x, y, batch_size=100):\n",
    "    \n",
    "    n_batches = len(x)//batch_size\n",
    "    x, y = x[:n_batches*batch_size], y[:n_batches*batch_size]\n",
    "    for ii in range(0, len(x), batch_size):\n",
    "        yield x[ii:ii+batch_size], y[ii:ii+batch_size]"
   ]
  },
  {
   "cell_type": "markdown",
   "metadata": {},
   "source": [
    "## Training\n",
    "\n",
    "Below is the typical training code. If you want to do this yourself, feel free to delete all this code and implement it yourself. Before you run this, make sure the `checkpoints` directory exists."
   ]
  },
  {
   "cell_type": "code",
   "execution_count": 343,
   "metadata": {
    "collapsed": false,
    "deletable": true,
    "editable": true
   },
   "outputs": [
    {
     "name": "stdout",
     "output_type": "stream",
     "text": [
      "Epoch: 0/10 Iteration: 5 Train loss: 0.244\n",
      "Epoch: 0/10 Iteration: 10 Train loss: 0.238\n",
      "Epoch: 0/10 Iteration: 15 Train loss: 0.214\n",
      "Epoch: 0/10 Iteration: 20 Train loss: 0.203\n",
      "Epoch: 0/10 Iteration: 25 Train loss: 0.179\n",
      "Val acc: 0.732\n",
      "Epoch: 0/10 Iteration: 30 Train loss: 0.177\n",
      "Epoch: 0/10 Iteration: 35 Train loss: 0.159\n",
      "Epoch: 0/10 Iteration: 40 Train loss: 0.203\n",
      "Epoch: 1/10 Iteration: 45 Train loss: 0.143\n",
      "Epoch: 1/10 Iteration: 50 Train loss: 0.208\n",
      "Val acc: 0.720\n",
      "Epoch: 1/10 Iteration: 55 Train loss: 0.232\n",
      "Epoch: 1/10 Iteration: 60 Train loss: 0.194\n",
      "Epoch: 1/10 Iteration: 65 Train loss: 0.177\n",
      "Epoch: 1/10 Iteration: 70 Train loss: 0.155\n",
      "Epoch: 1/10 Iteration: 75 Train loss: 0.131\n",
      "Val acc: 0.770\n",
      "Epoch: 1/10 Iteration: 80 Train loss: 0.155\n",
      "Epoch: 2/10 Iteration: 85 Train loss: 0.117\n",
      "Epoch: 2/10 Iteration: 90 Train loss: 0.167\n",
      "Epoch: 2/10 Iteration: 95 Train loss: 0.129\n",
      "Epoch: 2/10 Iteration: 100 Train loss: 0.112\n",
      "Val acc: 0.810\n",
      "Epoch: 2/10 Iteration: 105 Train loss: 0.121\n",
      "Epoch: 2/10 Iteration: 110 Train loss: 0.117\n",
      "Epoch: 2/10 Iteration: 115 Train loss: 0.096\n",
      "Epoch: 2/10 Iteration: 120 Train loss: 0.092\n",
      "Epoch: 3/10 Iteration: 125 Train loss: 0.091\n",
      "Val acc: 0.824\n",
      "Epoch: 3/10 Iteration: 130 Train loss: 0.089\n",
      "Epoch: 3/10 Iteration: 135 Train loss: 0.078\n",
      "Epoch: 3/10 Iteration: 140 Train loss: 0.077\n",
      "Epoch: 3/10 Iteration: 145 Train loss: 0.094\n",
      "Epoch: 3/10 Iteration: 150 Train loss: 0.106\n",
      "Val acc: 0.789\n",
      "Epoch: 3/10 Iteration: 155 Train loss: 0.096\n",
      "Epoch: 3/10 Iteration: 160 Train loss: 0.096\n",
      "Epoch: 4/10 Iteration: 165 Train loss: 0.067\n",
      "Epoch: 4/10 Iteration: 170 Train loss: 0.060\n",
      "Epoch: 4/10 Iteration: 175 Train loss: 0.046\n",
      "Val acc: 0.785\n",
      "Epoch: 4/10 Iteration: 180 Train loss: 0.048\n",
      "Epoch: 4/10 Iteration: 185 Train loss: 0.065\n",
      "Epoch: 4/10 Iteration: 190 Train loss: 0.144\n",
      "Epoch: 4/10 Iteration: 195 Train loss: 0.070\n",
      "Epoch: 4/10 Iteration: 200 Train loss: 0.141\n",
      "Val acc: 0.639\n",
      "Epoch: 5/10 Iteration: 205 Train loss: 0.109\n",
      "Epoch: 5/10 Iteration: 210 Train loss: 0.136\n",
      "Epoch: 5/10 Iteration: 215 Train loss: 0.171\n",
      "Epoch: 5/10 Iteration: 220 Train loss: 0.122\n",
      "Epoch: 5/10 Iteration: 225 Train loss: 0.071\n",
      "Val acc: 0.809\n",
      "Epoch: 5/10 Iteration: 230 Train loss: 0.117\n",
      "Epoch: 5/10 Iteration: 235 Train loss: 0.088\n",
      "Epoch: 5/10 Iteration: 240 Train loss: 0.097\n",
      "Epoch: 6/10 Iteration: 245 Train loss: 0.106\n",
      "Epoch: 6/10 Iteration: 250 Train loss: 0.131\n",
      "Val acc: 0.793\n",
      "Epoch: 6/10 Iteration: 255 Train loss: 0.092\n",
      "Epoch: 6/10 Iteration: 260 Train loss: 0.119\n",
      "Epoch: 6/10 Iteration: 265 Train loss: 0.090\n",
      "Epoch: 6/10 Iteration: 270 Train loss: 0.150\n",
      "Epoch: 6/10 Iteration: 275 Train loss: 0.114\n",
      "Val acc: 0.804\n",
      "Epoch: 6/10 Iteration: 280 Train loss: 0.099\n",
      "Epoch: 7/10 Iteration: 285 Train loss: 0.057\n",
      "Epoch: 7/10 Iteration: 290 Train loss: 0.105\n",
      "Epoch: 7/10 Iteration: 295 Train loss: 0.051\n",
      "Epoch: 7/10 Iteration: 300 Train loss: 0.061\n",
      "Val acc: 0.803\n",
      "Epoch: 7/10 Iteration: 305 Train loss: 0.027\n",
      "Epoch: 7/10 Iteration: 310 Train loss: 0.046\n",
      "Epoch: 7/10 Iteration: 315 Train loss: 0.021\n",
      "Epoch: 7/10 Iteration: 320 Train loss: 0.019\n",
      "Epoch: 8/10 Iteration: 325 Train loss: 0.095\n",
      "Val acc: 0.840\n",
      "Epoch: 8/10 Iteration: 330 Train loss: 0.059\n",
      "Epoch: 8/10 Iteration: 335 Train loss: 0.047\n",
      "Epoch: 8/10 Iteration: 340 Train loss: 0.047\n",
      "Epoch: 8/10 Iteration: 345 Train loss: 0.047\n",
      "Epoch: 8/10 Iteration: 350 Train loss: 0.045\n",
      "Val acc: 0.653\n",
      "Epoch: 8/10 Iteration: 355 Train loss: 0.029\n",
      "Epoch: 8/10 Iteration: 360 Train loss: 0.354\n",
      "Epoch: 9/10 Iteration: 365 Train loss: 0.215\n",
      "Epoch: 9/10 Iteration: 370 Train loss: 0.221\n",
      "Epoch: 9/10 Iteration: 375 Train loss: 0.211\n",
      "Val acc: 0.588\n",
      "Epoch: 9/10 Iteration: 380 Train loss: 0.213\n",
      "Epoch: 9/10 Iteration: 385 Train loss: 0.197\n",
      "Epoch: 9/10 Iteration: 390 Train loss: 0.197\n",
      "Epoch: 9/10 Iteration: 395 Train loss: 0.169\n",
      "Epoch: 9/10 Iteration: 400 Train loss: 0.168\n",
      "Val acc: 0.697\n"
     ]
    }
   ],
   "source": [
    "epochs = 10\n",
    "\n",
    "with graph.as_default():\n",
    "    saver = tf.train.Saver()\n",
    "\n",
    "with tf.Session(graph=graph) as sess:\n",
    "    sess.run(tf.global_variables_initializer())\n",
    "    iteration = 1\n",
    "    for e in range(epochs):\n",
    "        state = sess.run(initial_state)\n",
    "        \n",
    "        for ii, (x, y) in enumerate(get_batches(train_x, train_y, batch_size), 1):\n",
    "            feed = {inputs_: x,\n",
    "                    labels_: y[:, None],\n",
    "                    keep_prob: 0.5,\n",
    "                    initial_state: state}\n",
    "            loss, state, _ = sess.run([cost, final_state, optimizer], feed_dict=feed)\n",
    "            \n",
    "            if iteration%5==0:\n",
    "                print(\"Epoch: {}/{}\".format(e, epochs),\n",
    "                      \"Iteration: {}\".format(iteration),\n",
    "                      \"Train loss: {:.3f}\".format(loss))\n",
    "\n",
    "            if iteration%25==0:\n",
    "                val_acc = []\n",
    "                val_state = sess.run(cell.zero_state(batch_size, tf.float32))\n",
    "                for x, y in get_batches(val_x, val_y, batch_size):\n",
    "                    feed = {inputs_: x,\n",
    "                            labels_: y[:, None],\n",
    "                            keep_prob: 1,\n",
    "                            initial_state: val_state}\n",
    "                    batch_acc, val_state = sess.run([accuracy, final_state], feed_dict=feed)\n",
    "                    val_acc.append(batch_acc)\n",
    "                print(\"Val acc: {:.3f}\".format(np.mean(val_acc)))\n",
    "            iteration +=1\n",
    "    saver.save(sess, \"checkpoints/sentiment.ckpt\")"
   ]
  },
  {
   "cell_type": "markdown",
   "metadata": {},
   "source": [
    "## Testing"
   ]
  },
  {
   "cell_type": "code",
   "execution_count": 344,
   "metadata": {
    "collapsed": false,
    "deletable": true,
    "editable": true
   },
   "outputs": [
    {
     "name": "stdout",
     "output_type": "stream",
     "text": [
      "Test accuracy: 0.714\n"
     ]
    }
   ],
   "source": [
    "test_acc = []\n",
    "with tf.Session(graph=graph) as sess:\n",
    "    saver.restore(sess, tf.train.latest_checkpoint('checkpoints'))\n",
    "    test_state = sess.run(cell.zero_state(batch_size, tf.float32))\n",
    "    for ii, (x, y) in enumerate(get_batches(test_x, test_y, batch_size), 1):\n",
    "        feed = {inputs_: x,\n",
    "                labels_: y[:, None],\n",
    "                keep_prob: 1,\n",
    "                initial_state: test_state}\n",
    "        batch_acc, test_state = sess.run([accuracy, final_state], feed_dict=feed)\n",
    "        test_acc.append(batch_acc)\n",
    "    print(\"Test accuracy: {:.3f}\".format(np.mean(test_acc)))"
   ]
  }
 ],
 "metadata": {
  "kernelspec": {
   "display_name": "Python 3",
   "language": "python",
   "name": "python3"
  },
  "language_info": {
   "codemirror_mode": {
    "name": "ipython",
    "version": 3
   },
   "file_extension": ".py",
   "mimetype": "text/x-python",
   "name": "python",
   "nbconvert_exporter": "python",
   "pygments_lexer": "ipython3",
   "version": "3.5.3"
  }
 },
 "nbformat": 4,
 "nbformat_minor": 0
}
