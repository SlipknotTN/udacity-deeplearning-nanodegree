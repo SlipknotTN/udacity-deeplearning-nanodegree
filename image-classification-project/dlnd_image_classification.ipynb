{
 "cells": [
  {
   "cell_type": "markdown",
   "metadata": {
    "collapsed": true
   },
   "source": [
    "# Image Classification\n",
    "In this project, you'll classify images from the [CIFAR-10 dataset](https://www.cs.toronto.edu/~kriz/cifar.html).  The dataset consists of airplanes, dogs, cats, and other objects. You'll preprocess the images, then train a convolutional neural network on all the samples. The images need to be normalized and the labels need to be one-hot encoded.  You'll get to apply what you learned and build a convolutional, max pooling, dropout, and fully connected layers.  At the end, you'll get to see your neural network's predictions on the sample images.\n",
    "## Get the Data\n",
    "Run the following cell to download the [CIFAR-10 dataset for python](https://www.cs.toronto.edu/~kriz/cifar-10-python.tar.gz)."
   ]
  },
  {
   "cell_type": "code",
   "execution_count": 305,
   "metadata": {
    "collapsed": false
   },
   "outputs": [
    {
     "name": "stdout",
     "output_type": "stream",
     "text": [
      "All files found!\n"
     ]
    }
   ],
   "source": [
    "\"\"\"\n",
    "DON'T MODIFY ANYTHING IN THIS CELL THAT IS BELOW THIS LINE\n",
    "\"\"\"\n",
    "from urllib.request import urlretrieve\n",
    "from os.path import isfile, isdir\n",
    "from tqdm import tqdm\n",
    "import problem_unittests as tests\n",
    "import tarfile\n",
    "\n",
    "cifar10_dataset_folder_path = 'cifar-10-batches-py'\n",
    "\n",
    "class DLProgress(tqdm):\n",
    "    last_block = 0\n",
    "\n",
    "    def hook(self, block_num=1, block_size=1, total_size=None):\n",
    "        self.total = total_size\n",
    "        self.update((block_num - self.last_block) * block_size)\n",
    "        self.last_block = block_num\n",
    "\n",
    "if not isfile('cifar-10-python.tar.gz'):\n",
    "    with DLProgress(unit='B', unit_scale=True, miniters=1, desc='CIFAR-10 Dataset') as pbar:\n",
    "        urlretrieve(\n",
    "            'https://www.cs.toronto.edu/~kriz/cifar-10-python.tar.gz',\n",
    "            'cifar-10-python.tar.gz',\n",
    "            pbar.hook)\n",
    "\n",
    "if not isdir(cifar10_dataset_folder_path):\n",
    "    with tarfile.open('cifar-10-python.tar.gz') as tar:\n",
    "        tar.extractall()\n",
    "        tar.close()\n",
    "\n",
    "\n",
    "tests.test_folder_path(cifar10_dataset_folder_path)"
   ]
  },
  {
   "cell_type": "markdown",
   "metadata": {},
   "source": [
    "## Explore the Data\n",
    "The dataset is broken into batches to prevent your machine from running out of memory.  The CIFAR-10 dataset consists of 5 batches, named `data_batch_1`, `data_batch_2`, etc.. Each batch contains the labels and images that are one of the following:\n",
    "* airplane\n",
    "* automobile\n",
    "* bird\n",
    "* cat\n",
    "* deer\n",
    "* dog\n",
    "* frog\n",
    "* horse\n",
    "* ship\n",
    "* truck\n",
    "\n",
    "Understanding a dataset is part of making predictions on the data.  Play around with the code cell below by changing the `batch_id` and `sample_id`. The `batch_id` is the id for a batch (1-5). The `sample_id` is the id for a image and label pair in the batch.\n",
    "\n",
    "Ask yourself \"What are all possible labels?\", \"What is the range of values for the image data?\", \"Are the labels in order or random?\".  Answers to questions like these will help you preprocess the data and end up with better predictions."
   ]
  },
  {
   "cell_type": "code",
   "execution_count": 306,
   "metadata": {
    "collapsed": false
   },
   "outputs": [
    {
     "name": "stdout",
     "output_type": "stream",
     "text": [
      "\n",
      "Stats of batch 1:\n",
      "Samples: 10000\n",
      "Label Counts: {0: 1005, 1: 974, 2: 1032, 3: 1016, 4: 999, 5: 937, 6: 1030, 7: 1001, 8: 1025, 9: 981}\n",
      "First 20 Labels: [6, 9, 9, 4, 1, 1, 2, 7, 8, 3, 4, 7, 7, 2, 9, 9, 9, 3, 2, 6]\n",
      "\n",
      "Example of Image 5:\n",
      "Image - Min Value: 0 Max Value: 252\n",
      "Image - Shape: (32, 32, 3)\n",
      "Label - Label Id: 1 Name: automobile\n"
     ]
    },
    {
     "data": {
      "image/png": "[encoded data removed]",
      "text/plain": [
       "<matplotlib.figure.Figure at 0x7fcabfbdf630>"
      ]
     },
     "metadata": {
      "image/png": {
       "height": 250,
       "width": 253
      }
     },
     "output_type": "display_data"
    }
   ],
   "source": [
    "%matplotlib inline\n",
    "%config InlineBackend.figure_format = 'retina'\n",
    "\n",
    "import helper\n",
    "import numpy as np\n",
    "\n",
    "# Explore the dataset\n",
    "batch_id = 1\n",
    "sample_id = 5\n",
    "helper.display_stats(cifar10_dataset_folder_path, batch_id, sample_id)"
   ]
  },
  {
   "cell_type": "markdown",
   "metadata": {},
   "source": [
    "## Implement Preprocess Functions\n",
    "### Normalize\n",
    "In the cell below, implement the `normalize` function to take in image data, `x`, and return it as a normalized Numpy array. The values should be in the range of 0 to 1, inclusive.  The return object should be the same shape as `x`."
   ]
  },
  {
   "cell_type": "code",
   "execution_count": 307,
   "metadata": {
    "collapsed": false
   },
   "outputs": [
    {
     "name": "stdout",
     "output_type": "stream",
     "text": [
      "Tests Passed\n"
     ]
    }
   ],
   "source": [
    "def normalize(x):\n",
    "    \"\"\"\n",
    "    Normalize a list of sample image data in the range of 0 to 1\n",
    "    : x: List of image data.  The image shape is (32, 32, 3)\n",
    "    : return: Numpy array of normalize data\n",
    "    \"\"\"\n",
    "    # TODO: Implement Function\n",
    "    return (x - np.min(x)) / (np.max(x) - np.min(x)) * (1 - 0)\n",
    "\n",
    "\n",
    "\"\"\"\n",
    "DON'T MODIFY ANYTHING IN THIS CELL THAT IS BELOW THIS LINE\n",
    "\"\"\"\n",
    "tests.test_normalize(normalize)"
   ]
  },
  {
   "cell_type": "markdown",
   "metadata": {},
   "source": [
    "### One-hot encode\n",
    "Just like the previous code cell, you'll be implementing a function for preprocessing.  This time, you'll implement the `one_hot_encode` function. The input, `x`, are a list of labels.  Implement the function to return the list of labels as One-Hot encoded Numpy array.  The possible values for labels are 0 to 9. The one-hot encoding function should return the same encoding for each value between each call to `one_hot_encode`.  Make sure to save the map of encodings outside the function.\n",
    "\n",
    "**Hint:**\n",
    "\n",
    "Look into LabelBinarizer in the preprocessing module of sklearn."
   ]
  },
  {
   "cell_type": "code",
   "execution_count": 308,
   "metadata": {
    "collapsed": false
   },
   "outputs": [
    {
     "name": "stdout",
     "output_type": "stream",
     "text": [
      "Tests Passed\n"
     ]
    }
   ],
   "source": [
    "from sklearn import preprocessing\n",
    "\n",
    "def one_hot_encode(x):\n",
    "    \"\"\"\n",
    "    One hot encode a list of sample labels. Return a one-hot encoded vector for each label.\n",
    "    : x: List of sample Labels\n",
    "    : return: Numpy array of one-hot encoded labels\n",
    "    \"\"\"\n",
    "    # TODO: Implement Function\n",
    "    \n",
    "    lb = preprocessing.LabelBinarizer()\n",
    "    lb.fit(range(0,9+1))\n",
    "    \n",
    "    return lb.transform(x)\n",
    "    \n",
    "\n",
    "\"\"\"\n",
    "DON'T MODIFY ANYTHING IN THIS CELL THAT IS BELOW THIS LINE\n",
    "\"\"\"\n",
    "tests.test_one_hot_encode(one_hot_encode)"
   ]
  },
  {
   "cell_type": "markdown",
   "metadata": {},
   "source": [
    "### Randomize Data\n",
    "As you saw from exploring the data above, the order of the samples are randomized.  It doesn't hurt to randomize it again, but you don't need to for this dataset."
   ]
  },
  {
   "cell_type": "markdown",
   "metadata": {},
   "source": [
    "## Preprocess all the data and save it\n",
    "Running the code cell below will preprocess all the CIFAR-10 data and save it to file. The code below also uses 10% of the training data for validation."
   ]
  },
  {
   "cell_type": "code",
   "execution_count": 309,
   "metadata": {
    "collapsed": false
   },
   "outputs": [],
   "source": [
    "\"\"\"\n",
    "DON'T MODIFY ANYTHING IN THIS CELL\n",
    "\"\"\"\n",
    "# Preprocess Training, Validation, and Testing Data\n",
    "helper.preprocess_and_save_data(cifar10_dataset_folder_path, normalize, one_hot_encode)"
   ]
  },
  {
   "cell_type": "markdown",
   "metadata": {},
   "source": [
    "# Check Point\n",
    "This is your first checkpoint.  If you ever decide to come back to this notebook or have to restart the notebook, you can start from here.  The preprocessed data has been saved to disk."
   ]
  },
  {
   "cell_type": "code",
   "execution_count": 310,
   "metadata": {
    "collapsed": false
   },
   "outputs": [],
   "source": [
    "\"\"\"\n",
    "DON'T MODIFY ANYTHING IN THIS CELL\n",
    "\"\"\"\n",
    "import pickle\n",
    "import problem_unittests as tests\n",
    "import helper\n",
    "\n",
    "# Load the Preprocessed Validation data\n",
    "valid_features, valid_labels = pickle.load(open('preprocess_validation.p', mode='rb'))"
   ]
  },
  {
   "cell_type": "markdown",
   "metadata": {},
   "source": [
    "## Build the network\n",
    "For the neural network, you'll build each layer into a function.  Most of the code you've seen has been outside of functions. To test your code more thoroughly, we require that you put each layer in a function.  This allows us to give you better feedback and test for simple mistakes using our unittests before you submit your project.\n",
    "\n",
    ">**Note:** If you're finding it hard to dedicate enough time for this course each week, we've provided a small shortcut to this part of the project. In the next couple of problems, you'll have the option to use classes from the [TensorFlow Layers](https://www.tensorflow.org/api_docs/python/tf/layers) or [TensorFlow Layers (contrib)](https://www.tensorflow.org/api_guides/python/contrib.layers) packages to build each layer, except the layers you build in the \"Convolutional and Max Pooling Layer\" section.  TF Layers is similar to Keras's and TFLearn's abstraction to layers, so it's easy to pickup.\n",
    "\n",
    ">However, if you would like to get the most out of this course, try to solve all the problems _without_ using anything from the TF Layers packages. You **can** still use classes from other packages that happen to have the same name as ones you find in TF Layers! For example, instead of using the TF Layers version of the `conv2d` class, [tf.layers.conv2d](https://www.tensorflow.org/api_docs/python/tf/layers/conv2d), you would want to use the TF Neural Network version of `conv2d`, [tf.nn.conv2d](https://www.tensorflow.org/api_docs/python/tf/nn/conv2d). \n",
    "\n",
    "Let's begin!\n",
    "\n",
    "### Input\n",
    "The neural network needs to read the image data, one-hot encoded labels, and dropout keep probability. Implement the following functions\n",
    "* Implement `neural_net_image_input`\n",
    " * Return a [TF Placeholder](https://www.tensorflow.org/api_docs/python/tf/placeholder)\n",
    " * Set the shape using `image_shape` with batch size set to `None`.\n",
    " * Name the TensorFlow placeholder \"x\" using the TensorFlow `name` parameter in the [TF Placeholder](https://www.tensorflow.org/api_docs/python/tf/placeholder).\n",
    "* Implement `neural_net_label_input`\n",
    " * Return a [TF Placeholder](https://www.tensorflow.org/api_docs/python/tf/placeholder)\n",
    " * Set the shape using `n_classes` with batch size set to `None`.\n",
    " * Name the TensorFlow placeholder \"y\" using the TensorFlow `name` parameter in the [TF Placeholder](https://www.tensorflow.org/api_docs/python/tf/placeholder).\n",
    "* Implement `neural_net_keep_prob_input`\n",
    " * Return a [TF Placeholder](https://www.tensorflow.org/api_docs/python/tf/placeholder) for dropout keep probability.\n",
    " * Name the TensorFlow placeholder \"keep_prob\" using the TensorFlow `name` parameter in the [TF Placeholder](https://www.tensorflow.org/api_docs/python/tf/placeholder).\n",
    "\n",
    "These names will be used at the end of the project to load your saved model.\n",
    "\n",
    "Note: `None` for shapes in TensorFlow allow for a dynamic size."
   ]
  },
  {
   "cell_type": "code",
   "execution_count": 311,
   "metadata": {
    "collapsed": false
   },
   "outputs": [
    {
     "name": "stdout",
     "output_type": "stream",
     "text": [
      "Image Input Tests Passed.\n",
      "Label Input Tests Passed.\n",
      "Keep Prob Tests Passed.\n"
     ]
    }
   ],
   "source": [
    "import tensorflow as tf\n",
    "\n",
    "def neural_net_image_input(image_shape):\n",
    "    \"\"\"\n",
    "    Return a Tensor for a batch of image input\n",
    "    : image_shape: Shape of the images\n",
    "    : return: Tensor for image input.\n",
    "    \"\"\"\n",
    "    # TODO: Implement Function\n",
    "    return tf.placeholder(tf.float32, shape=(None, *image_shape), name = \"x\")\n",
    "\n",
    "\n",
    "def neural_net_label_input(n_classes):\n",
    "    \"\"\"\n",
    "    Return a Tensor for a batch of label input\n",
    "    : n_classes: Number of classes\n",
    "    : return: Tensor for label input.\n",
    "    \"\"\"\n",
    "    # TODO: Implement Function\n",
    "    return tf.placeholder(tf.int32, shape=(None, n_classes), name = \"y\")\n",
    "\n",
    "\n",
    "def neural_net_keep_prob_input():\n",
    "    \"\"\"\n",
    "    Return a Tensor for keep probability\n",
    "    : return: Tensor for keep probability.\n",
    "    \"\"\"\n",
    "    # TODO: Implement Function\n",
    "    return tf.placeholder(tf.float32, name = \"keep_prob\")\n",
    "\n",
    "\n",
    "\"\"\"\n",
    "DON'T MODIFY ANYTHING IN THIS CELL THAT IS BELOW THIS LINE\n",
    "\"\"\"\n",
    "tf.reset_default_graph()\n",
    "tests.test_nn_image_inputs(neural_net_image_input)\n",
    "tests.test_nn_label_inputs(neural_net_label_input)\n",
    "tests.test_nn_keep_prob_inputs(neural_net_keep_prob_input)"
   ]
  },
  {
   "cell_type": "markdown",
   "metadata": {},
   "source": [
    "### Convolution and Max Pooling Layer\n",
    "Convolution layers have a lot of success with images. For this code cell, you should implement the function `conv2d_maxpool` to apply convolution then max pooling:\n",
    "* Create the weight and bias using `conv_ksize`, `conv_num_outputs` and the shape of `x_tensor`.\n",
    "* Apply a convolution to `x_tensor` using weight and `conv_strides`.\n",
    " * We recommend you use same padding, but you're welcome to use any padding.\n",
    "* Add bias\n",
    "* Add a nonlinear activation to the convolution.\n",
    "* Apply Max Pooling using `pool_ksize` and `pool_strides`.\n",
    " * We recommend you use same padding, but you're welcome to use any padding.\n",
    "\n",
    "**Note:** You **can't** use [TensorFlow Layers](https://www.tensorflow.org/api_docs/python/tf/layers) or [TensorFlow Layers (contrib)](https://www.tensorflow.org/api_guides/python/contrib.layers) for **this** layer, but you can still use TensorFlow's [Neural Network](https://www.tensorflow.org/api_docs/python/tf/nn) package. You may still use the shortcut option for all the **other** layers.\n",
    "\n",
    "** Hint: **\n",
    "\n",
    "When unpacking values as an argument in Python, look into the [unpacking](https://docs.python.org/3/tutorial/controlflow.html#unpacking-argument-lists) operator. "
   ]
  },
  {
   "cell_type": "code",
   "execution_count": 356,
   "metadata": {
    "collapsed": false
   },
   "outputs": [
    {
     "name": "stdout",
     "output_type": "stream",
     "text": [
      "Tests Passed\n"
     ]
    }
   ],
   "source": [
    "def conv2d_maxpool(x_tensor, conv_num_outputs, conv_ksize, conv_strides, pool_ksize, pool_strides):\n",
    "    \"\"\"\n",
    "    Apply convolution then max pooling to x_tensor\n",
    "    :param x_tensor: TensorFlow Tensor\n",
    "    :param conv_num_outputs: Number of outputs for the convolutional layer\n",
    "    :param conv_ksize: kernal size 2-D Tuple for the convolutional layer\n",
    "    :param conv_strides: Stride 2-D Tuple for convolution\n",
    "    :param pool_ksize: kernal size 2-D Tuple for pool\n",
    "    :param pool_strides: Stride 2-D Tuple for pool\n",
    "    : return: A tensor that represents convolution and max pooling of x_tensor\n",
    "    \"\"\"\n",
    "    # TODO: Implement Function\n",
    "    input_channels = x_tensor.shape[-1]\n",
    "    conv_weights = tf.Variable(tf.truncated_normal(shape=(*conv_ksize, int(input_channels), conv_num_outputs),\n",
    "                               mean=0.0, stddev=0.01))\n",
    "    conv_stride = [1, *conv_strides, 1]\n",
    "    conv_biases = tf.Variable(tf.zeros(conv_num_outputs))\n",
    "    padding = 'SAME'\n",
    "    conv_result = tf.add(tf.nn.conv2d(x_tensor, conv_weights, conv_stride, padding), conv_biases)\n",
    "    relu_result = tf.nn.relu(conv_result)\n",
    "    max_pool_result = tf.nn.max_pool(relu_result, ksize=[1, *pool_ksize, 1], strides=[1,*pool_strides,1], padding=padding)\n",
    "    \n",
    "    return max_pool_result\n",
    "\n",
    "\n",
    "\"\"\"\n",
    "DON'T MODIFY ANYTHING IN THIS CELL THAT IS BELOW THIS LINE\n",
    "\"\"\"\n",
    "tests.test_con_pool(conv2d_maxpool)"
   ]
  },
  {
   "cell_type": "markdown",
   "metadata": {},
   "source": [
    "### Flatten Layer\n",
    "Implement the `flatten` function to change the dimension of `x_tensor` from a 4-D tensor to a 2-D tensor.  The output should be the shape (*Batch Size*, *Flattened Image Size*). Shortcut option: you can use classes from the [TensorFlow Layers](https://www.tensorflow.org/api_docs/python/tf/layers) or [TensorFlow Layers (contrib)](https://www.tensorflow.org/api_guides/python/contrib.layers) packages for this layer. For more of a challenge, only use other TensorFlow packages."
   ]
  },
  {
   "cell_type": "code",
   "execution_count": 357,
   "metadata": {
    "collapsed": false
   },
   "outputs": [
    {
     "name": "stdout",
     "output_type": "stream",
     "text": [
      "Tests Passed\n"
     ]
    }
   ],
   "source": [
    "def flatten(x_tensor):\n",
    "    \"\"\"\n",
    "    Flatten x_tensor to (Batch Size, Flattened Image Size)\n",
    "    : x_tensor: A tensor of size (Batch Size, ...), where ... are the image dimensions.\n",
    "    : return: A tensor of size (Batch Size, Flattened Image Size).\n",
    "    \"\"\"\n",
    "    # TODO: Implement Function\n",
    "    \n",
    "    # With contrib\n",
    "    return tf.contrib.layers.flatten(x_tensor)\n",
    "\n",
    "    #With TF\n",
    "    # flattened_dim = int(x_tensor.shape[1] * x_tensor.shape[2] * x_tensor.shape[3])\n",
    "    # return tf.reshape(x_tensor,shape=(-1, flattened_dim))\n",
    "\n",
    "\n",
    "\n",
    "\"\"\"\n",
    "DON'T MODIFY ANYTHING IN THIS CELL THAT IS BELOW THIS LINE\n",
    "\"\"\"\n",
    "tests.test_flatten(flatten)"
   ]
  },
  {
   "cell_type": "markdown",
   "metadata": {},
   "source": [
    "### Fully-Connected Layer\n",
    "Implement the `fully_conn` function to apply a fully connected layer to `x_tensor` with the shape (*Batch Size*, *num_outputs*). Shortcut option: you can use classes from the [TensorFlow Layers](https://www.tensorflow.org/api_docs/python/tf/layers) or [TensorFlow Layers (contrib)](https://www.tensorflow.org/api_guides/python/contrib.layers) packages for this layer. For more of a challenge, only use other TensorFlow packages."
   ]
  },
  {
   "cell_type": "code",
   "execution_count": 358,
   "metadata": {
    "collapsed": false
   },
   "outputs": [
    {
     "name": "stdout",
     "output_type": "stream",
     "text": [
      "Tests Passed\n"
     ]
    }
   ],
   "source": [
    "def fully_conn(x_tensor, num_outputs):\n",
    "    \"\"\"\n",
    "    Apply a fully connected layer to x_tensor using weight and bias\n",
    "    : x_tensor: A 2-D tensor where the first dimension is batch size.\n",
    "    : num_outputs: The number of output that the new tensor should be.\n",
    "    : return: A 2-D tensor where the second dimension is num_outputs.\n",
    "    \"\"\"\n",
    "    # TODO: Implement Function\n",
    "    \n",
    "    # With TF\n",
    "    weights = tf.Variable(tf.truncated_normal(shape=(int(x_tensor.shape[1]), num_outputs), mean=0.0, stddev=0.01))\n",
    "    biases = tf.Variable(tf.zeros(num_outputs))\n",
    "    return tf.nn.relu(tf.add(tf.matmul(x_tensor, weights), biases))\n",
    "    \n",
    "    # With contrib\n",
    "    # return tf.nn.relu(tf.contrib.layers.fully_connected(x_tensor, num_outputs))\n",
    "\n",
    "\n",
    "\"\"\"\n",
    "DON'T MODIFY ANYTHING IN THIS CELL THAT IS BELOW THIS LINE\n",
    "\"\"\"\n",
    "tests.test_fully_conn(fully_conn)"
   ]
  },
  {
   "cell_type": "markdown",
   "metadata": {},
   "source": [
    "### Output Layer\n",
    "Implement the `output` function to apply a fully connected layer to `x_tensor` with the shape (*Batch Size*, *num_outputs*). Shortcut option: you can use classes from the [TensorFlow Layers](https://www.tensorflow.org/api_docs/python/tf/layers) or [TensorFlow Layers (contrib)](https://www.tensorflow.org/api_guides/python/contrib.layers) packages for this layer. For more of a challenge, only use other TensorFlow packages.\n",
    "\n",
    "**Note:** Activation, softmax, or cross entropy should **not** be applied to this."
   ]
  },
  {
   "cell_type": "code",
   "execution_count": 359,
   "metadata": {
    "collapsed": false
   },
   "outputs": [
    {
     "name": "stdout",
     "output_type": "stream",
     "text": [
      "Tests Passed\n"
     ]
    }
   ],
   "source": [
    "def output(x_tensor, num_outputs):\n",
    "    \"\"\"\n",
    "    Apply a output layer to x_tensor using weight and bias\n",
    "    : x_tensor: A 2-D tensor where the first dimension is batch size.\n",
    "    : num_outputs: The number of output that the new tensor should be.\n",
    "    : return: A 2-D tensor where the second dimension is num_outputs.\n",
    "    \"\"\"\n",
    "    # TODO: Implement Function\n",
    "    \n",
    "    # With TF\n",
    "    weights = tf.Variable(tf.truncated_normal(shape=(int(x_tensor.shape[1]), num_outputs), mean=0.0, stddev=0.01))\n",
    "    biases = tf.Variable(tf.zeros(num_outputs))\n",
    "    return tf.add(tf.matmul(x_tensor, weights), biases)\n",
    "    \n",
    "    # With contrib\n",
    "    # return tf.contrib.layers.fully_connected(x_tensor, num_outputs)\n",
    "\n",
    "\n",
    "\"\"\"\n",
    "DON'T MODIFY ANYTHING IN THIS CELL THAT IS BELOW THIS LINE\n",
    "\"\"\"\n",
    "tests.test_output(output)"
   ]
  },
  {
   "cell_type": "markdown",
   "metadata": {},
   "source": [
    "### Create Convolutional Model\n",
    "Implement the function `conv_net` to create a convolutional neural network model. The function takes in a batch of images, `x`, and outputs logits.  Use the layers you created above to create this model:\n",
    "\n",
    "* Apply 1, 2, or 3 Convolution and Max Pool layers\n",
    "* Apply a Flatten Layer\n",
    "* Apply 1, 2, or 3 Fully Connected Layers\n",
    "* Apply an Output Layer\n",
    "* Return the output\n",
    "* Apply [TensorFlow's Dropout](https://www.tensorflow.org/api_docs/python/tf/nn/dropout) to one or more layers in the model using `keep_prob`. "
   ]
  },
  {
   "cell_type": "code",
   "execution_count": 360,
   "metadata": {
    "collapsed": false
   },
   "outputs": [
    {
     "name": "stdout",
     "output_type": "stream",
     "text": [
      "Neural Network Built!\n"
     ]
    }
   ],
   "source": [
    "def conv_net(x, keep_prob):\n",
    "    \"\"\"\n",
    "    Create a convolutional neural network model\n",
    "    : x: Placeholder tensor that holds image data.\n",
    "    : keep_prob: Placeholder tensor that hold dropout keep probability.\n",
    "    : return: Tensor that represents logits\n",
    "    \"\"\"\n",
    "    # TODO: Apply 1, 2, or 3 Convolution and Max Pool layers\n",
    "    #    Play around with different number of outputs, kernel size and stride\n",
    "    # Function Definition from Above:\n",
    "    #    conv2d_maxpool(x_tensor, conv_num_outputs, conv_ksize, conv_strides, pool_ksize, pool_strides)\n",
    "    result = conv2d_maxpool(x, 32, (5,5), (1,1), (2,2), (2,2))\n",
    "    result = conv2d_maxpool(result, 64, (5,5), (1,1), (2,2), (2,2))\n",
    "    \n",
    "    result = tf.nn.dropout(result, keep_prob)\n",
    "    \n",
    "    # TODO: Apply a Flatten Layer\n",
    "    # Function Definition from Above:\n",
    "    #   flatten(x_tensor)\n",
    "    result = flatten(result)\n",
    "\n",
    "    # TODO: Apply 1, 2, or 3 Fully Connected Layers\n",
    "    #    Play around with different number of outputs\n",
    "    # Function Definition from Above:\n",
    "    #   fully_conn(x_tensor, num_outputs)\n",
    "    result = fully_conn(result, 128)\n",
    "    # result = fully_conn(result, 128)\n",
    "    \n",
    "    result = tf.nn.dropout(result, keep_prob)\n",
    "    \n",
    "    # TODO: Apply an Output Layer\n",
    "    #    Set this to the number of classes\n",
    "    # Function Definition from Above:\n",
    "    #   output(x_tensor, num_outputs)\n",
    "    result = output(result, 10)\n",
    "    \n",
    "    \n",
    "    # TODO: return output\n",
    "    return result\n",
    "\n",
    "\n",
    "\"\"\"\n",
    "DON'T MODIFY ANYTHING IN THIS CELL THAT IS BELOW THIS LINE\n",
    "\"\"\"\n",
    "\n",
    "##############################\n",
    "## Build the Neural Network ##\n",
    "##############################\n",
    "\n",
    "# Remove previous weights, bias, inputs, etc..\n",
    "tf.reset_default_graph()\n",
    "\n",
    "# Inputs\n",
    "x = neural_net_image_input((32, 32, 3))\n",
    "y = neural_net_label_input(10)\n",
    "keep_prob = neural_net_keep_prob_input()\n",
    "\n",
    "# Model\n",
    "logits = conv_net(x, keep_prob)\n",
    "\n",
    "# Name logits Tensor, so that is can be loaded from disk after training\n",
    "logits = tf.identity(logits, name='logits')\n",
    "\n",
    "# Loss and Optimizer\n",
    "cost = tf.reduce_mean(tf.nn.softmax_cross_entropy_with_logits(logits=logits, labels=y))\n",
    "optimizer = tf.train.AdamOptimizer().minimize(cost)\n",
    "\n",
    "# Accuracy\n",
    "correct_pred = tf.equal(tf.argmax(logits, 1), tf.argmax(y, 1))\n",
    "accuracy = tf.reduce_mean(tf.cast(correct_pred, tf.float32), name='accuracy')\n",
    "\n",
    "tests.test_conv_net(conv_net)"
   ]
  },
  {
   "cell_type": "markdown",
   "metadata": {},
   "source": [
    "## Train the Neural Network\n",
    "### Single Optimization\n",
    "Implement the function `train_neural_network` to do a single optimization.  The optimization should use `optimizer` to optimize in `session` with a `feed_dict` of the following:\n",
    "* `x` for image input\n",
    "* `y` for labels\n",
    "* `keep_prob` for keep probability for dropout\n",
    "\n",
    "This function will be called for each batch, so `tf.global_variables_initializer()` has already been called.\n",
    "\n",
    "Note: Nothing needs to be returned. This function is only optimizing the neural network."
   ]
  },
  {
   "cell_type": "code",
   "execution_count": 361,
   "metadata": {
    "collapsed": false
   },
   "outputs": [
    {
     "name": "stdout",
     "output_type": "stream",
     "text": [
      "Tests Passed\n"
     ]
    }
   ],
   "source": [
    "def train_neural_network(session, optimizer, keep_probability, feature_batch, label_batch):\n",
    "    \"\"\"\n",
    "    Optimize the session on a batch of images and labels\n",
    "    : session: Current TensorFlow session\n",
    "    : optimizer: TensorFlow optimizer function\n",
    "    : keep_probability: keep probability\n",
    "    : feature_batch: Batch of Numpy image data\n",
    "    : label_batch: Batch of Numpy label data\n",
    "    \"\"\"\n",
    "    # TODO: Implement Function\n",
    "    session.run(optimizer, feed_dict={x: feature_batch, y: label_batch, keep_prob: keep_probability})\n",
    "\n",
    "\n",
    "\"\"\"\n",
    "DON'T MODIFY ANYTHING IN THIS CELL THAT IS BELOW THIS LINE\n",
    "\"\"\"\n",
    "tests.test_train_nn(train_neural_network)"
   ]
  },
  {
   "cell_type": "markdown",
   "metadata": {},
   "source": [
    "### Show Stats\n",
    "Implement the function `print_stats` to print loss and validation accuracy.  Use the global variables `valid_features` and `valid_labels` to calculate validation accuracy.  Use a keep probability of `1.0` to calculate the loss and validation accuracy."
   ]
  },
  {
   "cell_type": "code",
   "execution_count": 362,
   "metadata": {
    "collapsed": false
   },
   "outputs": [],
   "source": [
    "def print_stats(session, feature_batch, label_batch, cost, accuracy):\n",
    "    \"\"\"\n",
    "    Print information about loss and validation accuracy\n",
    "    : session: Current TensorFlow session\n",
    "    : feature_batch: Batch of Numpy image data\n",
    "    : label_batch: Batch of Numpy label data\n",
    "    : cost: TensorFlow cost function\n",
    "    : accuracy: TensorFlow accuracy function\n",
    "    \"\"\"\n",
    "    # TODO: Implement Function\n",
    "    print(session.run(cost, feed_dict={x: feature_batch, y: label_batch, keep_prob: 1.0}))\n",
    "    print(session.run(accuracy, feed_dict={x: valid_features, y: valid_labels, keep_prob: 1.0}))"
   ]
  },
  {
   "cell_type": "markdown",
   "metadata": {},
   "source": [
    "### Hyperparameters\n",
    "Tune the following parameters:\n",
    "* Set `epochs` to the number of iterations until the network stops learning or start overfitting\n",
    "* Set `batch_size` to the highest number that your machine has memory for.  Most people set them to common sizes of memory:\n",
    " * 64\n",
    " * 128\n",
    " * 256\n",
    " * ...\n",
    "* Set `keep_probability` to the probability of keeping a node using dropout"
   ]
  },
  {
   "cell_type": "code",
   "execution_count": 363,
   "metadata": {
    "collapsed": true
   },
   "outputs": [],
   "source": [
    "# TODO: Tune Parameters\n",
    "epochs = 30\n",
    "batch_size = 64\n",
    "keep_probability = 0.5"
   ]
  },
  {
   "cell_type": "markdown",
   "metadata": {},
   "source": [
    "### Train on a Single CIFAR-10 Batch\n",
    "Instead of training the neural network on all the CIFAR-10 batches of data, let's use a single batch. This should save time while you iterate on the model to get a better accuracy.  Once the final validation accuracy is 50% or greater, run the model on all the data in the next section."
   ]
  },
  {
   "cell_type": "code",
   "execution_count": 364,
   "metadata": {
    "collapsed": false
   },
   "outputs": [
    {
     "name": "stdout",
     "output_type": "stream",
     "text": [
      "Checking the Training on a Single Batch...\n",
      "Epoch  1, CIFAR-10 Batch 1:  2.21549\n",
      "0.233\n",
      "Epoch  2, CIFAR-10 Batch 1:  2.08797\n",
      "0.322\n",
      "Epoch  3, CIFAR-10 Batch 1:  1.91936\n",
      "0.3632\n",
      "Epoch  4, CIFAR-10 Batch 1:  1.85059\n",
      "0.4034\n",
      "Epoch  5, CIFAR-10 Batch 1:  1.77515\n",
      "0.4274\n",
      "Epoch  6, CIFAR-10 Batch 1:  1.70825\n",
      "0.423\n",
      "Epoch  7, CIFAR-10 Batch 1:  1.6926\n",
      "0.4454\n",
      "Epoch  8, CIFAR-10 Batch 1:  1.71519\n",
      "0.4558\n",
      "Epoch  9, CIFAR-10 Batch 1:  1.62627\n",
      "0.4672\n",
      "Epoch 10, CIFAR-10 Batch 1:  1.55971\n",
      "0.4746\n",
      "Epoch 11, CIFAR-10 Batch 1:  1.49492\n",
      "0.4808\n",
      "Epoch 12, CIFAR-10 Batch 1:  1.41219\n",
      "0.4894\n",
      "Epoch 13, CIFAR-10 Batch 1:  1.38527\n",
      "0.4832\n",
      "Epoch 14, CIFAR-10 Batch 1:  1.34761\n",
      "0.5004\n",
      "Epoch 15, CIFAR-10 Batch 1:  1.33626\n",
      "0.4972\n",
      "Epoch 16, CIFAR-10 Batch 1:  1.23786\n",
      "0.5048\n",
      "Epoch 17, CIFAR-10 Batch 1:  1.2016\n",
      "0.5058\n",
      "Epoch 18, CIFAR-10 Batch 1:  1.14413\n",
      "0.5108\n",
      "Epoch 19, CIFAR-10 Batch 1:  1.09364\n",
      "0.4966\n",
      "Epoch 20, CIFAR-10 Batch 1:  1.14152\n",
      "0.5036\n",
      "Epoch 21, CIFAR-10 Batch 1:  1.02713\n",
      "0.5254\n",
      "Epoch 22, CIFAR-10 Batch 1:  0.974293\n",
      "0.527\n",
      "Epoch 23, CIFAR-10 Batch 1:  0.980526\n",
      "0.5172\n",
      "Epoch 24, CIFAR-10 Batch 1:  0.9334\n",
      "0.5378\n",
      "Epoch 25, CIFAR-10 Batch 1:  0.946892\n",
      "0.5388\n",
      "Epoch 26, CIFAR-10 Batch 1:  0.873804\n",
      "0.5252\n",
      "Epoch 27, CIFAR-10 Batch 1:  0.867514\n",
      "0.5386\n",
      "Epoch 28, CIFAR-10 Batch 1:  0.836517\n",
      "0.5406\n",
      "Epoch 29, CIFAR-10 Batch 1:  0.804602\n",
      "0.5552\n",
      "Epoch 30, CIFAR-10 Batch 1:  0.754034\n",
      "0.5476\n"
     ]
    }
   ],
   "source": [
    "\"\"\"\n",
    "DON'T MODIFY ANYTHING IN THIS CELL\n",
    "\"\"\"\n",
    "print('Checking the Training on a Single Batch...')\n",
    "with tf.Session() as sess:\n",
    "    # Initializing the variables\n",
    "    sess.run(tf.global_variables_initializer())\n",
    "    \n",
    "    # Training cycle\n",
    "    for epoch in range(epochs):\n",
    "        batch_i = 1\n",
    "        for batch_features, batch_labels in helper.load_preprocess_training_batch(batch_i, batch_size):\n",
    "            train_neural_network(sess, optimizer, keep_probability, batch_features, batch_labels)\n",
    "        print('Epoch {:>2}, CIFAR-10 Batch {}:  '.format(epoch + 1, batch_i), end='')\n",
    "        print_stats(sess, batch_features, batch_labels, cost, accuracy)"
   ]
  },
  {
   "cell_type": "markdown",
   "metadata": {},
   "source": [
    "### Fully Train the Model\n",
    "Now that you got a good accuracy with a single CIFAR-10 batch, try it with all five batches."
   ]
  },
  {
   "cell_type": "code",
   "execution_count": 365,
   "metadata": {
    "collapsed": false
   },
   "outputs": [
    {
     "name": "stdout",
     "output_type": "stream",
     "text": [
      "Training...\n",
      "Epoch  1, CIFAR-10 Batch 1:  2.20674\n",
      "0.2596\n",
      "Epoch  1, CIFAR-10 Batch 2:  1.93898\n",
      "0.3196\n",
      "Epoch  1, CIFAR-10 Batch 3:  1.55912\n",
      "0.3726\n",
      "Epoch  1, CIFAR-10 Batch 4:  1.75155\n",
      "0.4008\n",
      "Epoch  1, CIFAR-10 Batch 5:  1.75573\n",
      "0.4326\n",
      "Epoch  2, CIFAR-10 Batch 1:  1.91588\n",
      "0.4452\n",
      "Epoch  2, CIFAR-10 Batch 2:  1.62087\n",
      "0.4476\n",
      "Epoch  2, CIFAR-10 Batch 3:  1.28795\n",
      "0.4472\n",
      "Epoch  2, CIFAR-10 Batch 4:  1.51981\n",
      "0.4742\n",
      "Epoch  2, CIFAR-10 Batch 5:  1.64903\n",
      "0.4848\n",
      "Epoch  3, CIFAR-10 Batch 1:  1.67476\n",
      "0.493\n",
      "Epoch  3, CIFAR-10 Batch 2:  1.38042\n",
      "0.4956\n",
      "Epoch  3, CIFAR-10 Batch 3:  1.19575\n",
      "0.5022\n",
      "Epoch  3, CIFAR-10 Batch 4:  1.4413\n",
      "0.4954\n",
      "Epoch  3, CIFAR-10 Batch 5:  1.56002\n",
      "0.5126\n",
      "Epoch  4, CIFAR-10 Batch 1:  1.61018\n",
      "0.5162\n",
      "Epoch  4, CIFAR-10 Batch 2:  1.35812\n",
      "0.5108\n",
      "Epoch  4, CIFAR-10 Batch 3:  1.11079\n",
      "0.5344\n",
      "Epoch  4, CIFAR-10 Batch 4:  1.41854\n",
      "0.5296\n",
      "Epoch  4, CIFAR-10 Batch 5:  1.45858\n",
      "0.5436\n",
      "Epoch  5, CIFAR-10 Batch 1:  1.51944\n",
      "0.5526\n",
      "Epoch  5, CIFAR-10 Batch 2:  1.20917\n",
      "0.5464\n",
      "Epoch  5, CIFAR-10 Batch 3:  1.01689\n",
      "0.5492\n",
      "Epoch  5, CIFAR-10 Batch 4:  1.2914\n",
      "0.558\n",
      "Epoch  5, CIFAR-10 Batch 5:  1.32044\n",
      "0.5654\n",
      "Epoch  6, CIFAR-10 Batch 1:  1.47734\n",
      "0.5678\n",
      "Epoch  6, CIFAR-10 Batch 2:  1.1502\n",
      "0.5746\n",
      "Epoch  6, CIFAR-10 Batch 3:  0.928443\n",
      "0.5852\n",
      "Epoch  6, CIFAR-10 Batch 4:  1.22626\n",
      "0.5802\n",
      "Epoch  6, CIFAR-10 Batch 5:  1.16225\n",
      "0.5738\n",
      "Epoch  7, CIFAR-10 Batch 1:  1.40045\n",
      "0.5846\n",
      "Epoch  7, CIFAR-10 Batch 2:  1.11064\n",
      "0.5948\n",
      "Epoch  7, CIFAR-10 Batch 3:  0.855984\n",
      "0.5944\n",
      "Epoch  7, CIFAR-10 Batch 4:  1.14704\n",
      "0.6066\n",
      "Epoch  7, CIFAR-10 Batch 5:  1.16847\n",
      "0.59\n",
      "Epoch  8, CIFAR-10 Batch 1:  1.30517\n",
      "0.6108\n",
      "Epoch  8, CIFAR-10 Batch 2:  1.05959\n",
      "0.5926\n",
      "Epoch  8, CIFAR-10 Batch 3:  0.904566\n",
      "0.604\n",
      "Epoch  8, CIFAR-10 Batch 4:  1.0967\n",
      "0.6222\n",
      "Epoch  8, CIFAR-10 Batch 5:  1.08726\n",
      "0.615\n",
      "Epoch  9, CIFAR-10 Batch 1:  1.30693\n",
      "0.6166\n",
      "Epoch  9, CIFAR-10 Batch 2:  1.06028\n",
      "0.6126\n",
      "Epoch  9, CIFAR-10 Batch 3:  0.817196\n",
      "0.6206\n",
      "Epoch  9, CIFAR-10 Batch 4:  1.07534\n",
      "0.6176\n",
      "Epoch  9, CIFAR-10 Batch 5:  1.04456\n",
      "0.634\n",
      "Epoch 10, CIFAR-10 Batch 1:  1.19729\n",
      "0.63\n",
      "Epoch 10, CIFAR-10 Batch 2:  1.02463\n",
      "0.6328\n",
      "Epoch 10, CIFAR-10 Batch 3:  0.783549\n",
      "0.6324\n",
      "Epoch 10, CIFAR-10 Batch 4:  0.980124\n",
      "0.6348\n",
      "Epoch 10, CIFAR-10 Batch 5:  0.985732\n",
      "0.6364\n",
      "Epoch 11, CIFAR-10 Batch 1:  1.15553\n",
      "0.6486\n",
      "Epoch 11, CIFAR-10 Batch 2:  1.03041\n",
      "0.6298\n",
      "Epoch 11, CIFAR-10 Batch 3:  0.755651\n",
      "0.6352\n",
      "Epoch 11, CIFAR-10 Batch 4:  0.961035\n",
      "0.6406\n",
      "Epoch 11, CIFAR-10 Batch 5:  1.01152\n",
      "0.6448\n",
      "Epoch 12, CIFAR-10 Batch 1:  1.08463\n",
      "0.6512\n",
      "Epoch 12, CIFAR-10 Batch 2:  1.01695\n",
      "0.6486\n",
      "Epoch 12, CIFAR-10 Batch 3:  0.671626\n",
      "0.6576\n",
      "Epoch 12, CIFAR-10 Batch 4:  0.97312\n",
      "0.6548\n",
      "Epoch 12, CIFAR-10 Batch 5:  0.875507\n",
      "0.6554\n",
      "Epoch 13, CIFAR-10 Batch 1:  1.02213\n",
      "0.657\n",
      "Epoch 13, CIFAR-10 Batch 2:  0.965188\n",
      "0.6536\n",
      "Epoch 13, CIFAR-10 Batch 3:  0.676933\n",
      "0.6594\n",
      "Epoch 13, CIFAR-10 Batch 4:  0.908326\n",
      "0.6632\n",
      "Epoch 13, CIFAR-10 Batch 5:  0.941769\n",
      "0.6522\n",
      "Epoch 14, CIFAR-10 Batch 1:  1.00625\n",
      "0.6604\n",
      "Epoch 14, CIFAR-10 Batch 2:  0.918733\n",
      "0.6574\n",
      "Epoch 14, CIFAR-10 Batch 3:  0.64589\n",
      "0.6638\n",
      "Epoch 14, CIFAR-10 Batch 4:  0.88382\n",
      "0.6666\n",
      "Epoch 14, CIFAR-10 Batch 5:  0.89204\n",
      "0.6594\n",
      "Epoch 15, CIFAR-10 Batch 1:  1.01765\n",
      "0.659\n",
      "Epoch 15, CIFAR-10 Batch 2:  0.902394\n",
      "0.6666\n",
      "Epoch 15, CIFAR-10 Batch 3:  0.595175\n",
      "0.662\n",
      "Epoch 15, CIFAR-10 Batch 4:  0.897563\n",
      "0.6662\n",
      "Epoch 15, CIFAR-10 Batch 5:  0.86785\n",
      "0.6662\n",
      "Epoch 16, CIFAR-10 Batch 1:  0.8679\n",
      "0.665\n",
      "Epoch 16, CIFAR-10 Batch 2:  0.901149\n",
      "0.6686\n",
      "Epoch 16, CIFAR-10 Batch 3:  0.634275\n",
      "0.668\n",
      "Epoch 16, CIFAR-10 Batch 4:  0.850355\n",
      "0.663\n",
      "Epoch 16, CIFAR-10 Batch 5:  0.922369\n",
      "0.6406\n",
      "Epoch 17, CIFAR-10 Batch 1:  0.909664\n",
      "0.6698\n",
      "Epoch 17, CIFAR-10 Batch 2:  0.855492\n",
      "0.6692\n",
      "Epoch 17, CIFAR-10 Batch 3:  0.580998\n",
      "0.6682\n",
      "Epoch 17, CIFAR-10 Batch 4:  0.788554\n",
      "0.67\n",
      "Epoch 17, CIFAR-10 Batch 5:  0.769882\n",
      "0.671\n",
      "Epoch 18, CIFAR-10 Batch 1:  0.883484\n",
      "0.6692\n",
      "Epoch 18, CIFAR-10 Batch 2:  0.829061\n",
      "0.681\n",
      "Epoch 18, CIFAR-10 Batch 3:  0.565817\n",
      "0.6802\n",
      "Epoch 18, CIFAR-10 Batch 4:  0.772066\n",
      "0.6778\n",
      "Epoch 18, CIFAR-10 Batch 5:  0.798348\n",
      "0.674\n",
      "Epoch 19, CIFAR-10 Batch 1:  0.934973\n",
      "0.6592\n",
      "Epoch 19, CIFAR-10 Batch 2:  0.896055\n",
      "0.6712\n",
      "Epoch 19, CIFAR-10 Batch 3:  0.59516\n",
      "0.6786\n",
      "Epoch 19, CIFAR-10 Batch 4:  0.819311\n",
      "0.6684\n",
      "Epoch 19, CIFAR-10 Batch 5:  0.728114\n",
      "0.686\n",
      "Epoch 20, CIFAR-10 Batch 1:  0.812428\n",
      "0.6944\n",
      "Epoch 20, CIFAR-10 Batch 2:  0.849477\n",
      "0.6814\n",
      "Epoch 20, CIFAR-10 Batch 3:  0.535796\n",
      "0.6784\n",
      "Epoch 20, CIFAR-10 Batch 4:  0.792798\n",
      "0.6664\n",
      "Epoch 20, CIFAR-10 Batch 5:  0.726634\n",
      "0.6836\n",
      "Epoch 21, CIFAR-10 Batch 1:  0.849328\n",
      "0.683\n",
      "Epoch 21, CIFAR-10 Batch 2:  0.875632\n",
      "0.6848\n",
      "Epoch 21, CIFAR-10 Batch 3:  0.543896\n",
      "0.6844\n",
      "Epoch 21, CIFAR-10 Batch 4:  0.785475\n",
      "0.6886\n",
      "Epoch 21, CIFAR-10 Batch 5:  0.773875\n",
      "0.6812\n",
      "Epoch 22, CIFAR-10 Batch 1:  0.824599\n",
      "0.6804\n",
      "Epoch 22, CIFAR-10 Batch 2:  0.795756\n",
      "0.683\n",
      "Epoch 22, CIFAR-10 Batch 3:  0.561953\n",
      "0.6746\n",
      "Epoch 22, CIFAR-10 Batch 4:  0.75298\n",
      "0.676\n",
      "Epoch 22, CIFAR-10 Batch 5:  0.666334\n",
      "0.6836\n",
      "Epoch 23, CIFAR-10 Batch 1:  0.760329\n",
      "0.6884\n",
      "Epoch 23, CIFAR-10 Batch 2:  0.801292\n",
      "0.6862\n",
      "Epoch 23, CIFAR-10 Batch 3:  0.561076\n",
      "0.6936\n",
      "Epoch 23, CIFAR-10 Batch 4:  0.738589\n",
      "0.682\n",
      "Epoch 23, CIFAR-10 Batch 5:  0.677006\n",
      "0.6838\n",
      "Epoch 24, CIFAR-10 Batch 1:  0.819074\n",
      "0.6818\n",
      "Epoch 24, CIFAR-10 Batch 2:  0.737206\n",
      "0.701\n",
      "Epoch 24, CIFAR-10 Batch 3:  0.524872\n",
      "0.6928\n",
      "Epoch 24, CIFAR-10 Batch 4:  0.668142\n",
      "0.6884\n",
      "Epoch 24, CIFAR-10 Batch 5:  0.673905\n",
      "0.6946\n",
      "Epoch 25, CIFAR-10 Batch 1:  0.702209\n",
      "0.6862\n",
      "Epoch 25, CIFAR-10 Batch 2:  0.821227\n",
      "0.6886\n",
      "Epoch 25, CIFAR-10 Batch 3:  0.565045\n",
      "0.6882\n",
      "Epoch 25, CIFAR-10 Batch 4:  0.629609\n",
      "0.6942\n",
      "Epoch 25, CIFAR-10 Batch 5:  0.646087\n",
      "0.6878\n",
      "Epoch 26, CIFAR-10 Batch 1:  0.685342\n",
      "0.684\n",
      "Epoch 26, CIFAR-10 Batch 2:  0.77109\n",
      "0.6974\n",
      "Epoch 26, CIFAR-10 Batch 3:  0.45775\n",
      "0.6986\n",
      "Epoch 26, CIFAR-10 Batch 4:  0.680289\n",
      "0.6942\n",
      "Epoch 26, CIFAR-10 Batch 5:  0.644068\n",
      "0.691\n",
      "Epoch 27, CIFAR-10 Batch 1:  0.649646\n",
      "0.6942\n",
      "Epoch 27, CIFAR-10 Batch 2:  0.749037\n",
      "0.7004\n",
      "Epoch 27, CIFAR-10 Batch 3:  0.515958\n",
      "0.6878\n",
      "Epoch 27, CIFAR-10 Batch 4:  0.653963\n",
      "0.6992\n",
      "Epoch 27, CIFAR-10 Batch 5:  0.642317\n",
      "0.6864\n",
      "Epoch 28, CIFAR-10 Batch 1:  0.697661\n",
      "0.6972\n",
      "Epoch 28, CIFAR-10 Batch 2:  0.818449\n",
      "0.6934\n",
      "Epoch 28, CIFAR-10 Batch 3:  0.518833\n",
      "0.695\n",
      "Epoch 28, CIFAR-10 Batch 4:  0.590013\n",
      "0.7026\n",
      "Epoch 28, CIFAR-10 Batch 5:  0.660515\n",
      "0.7012\n",
      "Epoch 29, CIFAR-10 Batch 1:  0.679702\n",
      "0.6964\n",
      "Epoch 29, CIFAR-10 Batch 2:  0.758831\n",
      "0.6992\n",
      "Epoch 29, CIFAR-10 Batch 3:  0.519989\n",
      "0.7054\n",
      "Epoch 29, CIFAR-10 Batch 4:  0.642995\n",
      "0.6964\n",
      "Epoch 29, CIFAR-10 Batch 5:  0.651178\n",
      "0.6968\n",
      "Epoch 30, CIFAR-10 Batch 1:  0.63228\n",
      "0.6996\n",
      "Epoch 30, CIFAR-10 Batch 2:  0.678515\n",
      "0.7064\n",
      "Epoch 30, CIFAR-10 Batch 3:  0.476607\n",
      "0.7038\n",
      "Epoch 30, CIFAR-10 Batch 4:  0.654056\n",
      "0.6944\n",
      "Epoch 30, CIFAR-10 Batch 5:  0.571219\n",
      "0.6956\n"
     ]
    }
   ],
   "source": [
    "\"\"\"\n",
    "DON'T MODIFY ANYTHING IN THIS CELL\n",
    "\"\"\"\n",
    "save_model_path = './image_classification'\n",
    "\n",
    "print('Training...')\n",
    "with tf.Session() as sess:\n",
    "    # Initializing the variables\n",
    "    sess.run(tf.global_variables_initializer())\n",
    "    \n",
    "    # Training cycle\n",
    "    for epoch in range(epochs):\n",
    "        # Loop over all batches\n",
    "        n_batches = 5\n",
    "        for batch_i in range(1, n_batches + 1):\n",
    "            for batch_features, batch_labels in helper.load_preprocess_training_batch(batch_i, batch_size):\n",
    "                train_neural_network(sess, optimizer, keep_probability, batch_features, batch_labels)\n",
    "            print('Epoch {:>2}, CIFAR-10 Batch {}:  '.format(epoch + 1, batch_i), end='')\n",
    "            print_stats(sess, batch_features, batch_labels, cost, accuracy)\n",
    "            \n",
    "    # Save Model\n",
    "    saver = tf.train.Saver()\n",
    "    save_path = saver.save(sess, save_model_path)"
   ]
  },
  {
   "cell_type": "markdown",
   "metadata": {},
   "source": [
    "# Checkpoint\n",
    "The model has been saved to disk.\n",
    "## Test Model\n",
    "Test your model against the test dataset.  This will be your final accuracy. You should have an accuracy greater than 50%. If you don't, keep tweaking the model architecture and parameters."
   ]
  },
  {
   "cell_type": "code",
   "execution_count": 366,
   "metadata": {
    "collapsed": false
   },
   "outputs": [
    {
     "name": "stdout",
     "output_type": "stream",
     "text": [
      "Testing Accuracy: 0.6884952229299363\n",
      "\n"
     ]
    },
    {
     "data": {
      "image/png": "[encoded data removed]",
      "text/plain": [
       "<matplotlib.figure.Figure at 0x7fcaa07e3ef0>"
      ]
     },
     "metadata": {
      "image/png": {
       "height": 319,
       "width": 355
      }
     },
     "output_type": "display_data"
    }
   ],
   "source": [
    "\"\"\"\n",
    "DON'T MODIFY ANYTHING IN THIS CELL\n",
    "\"\"\"\n",
    "%matplotlib inline\n",
    "%config InlineBackend.figure_format = 'retina'\n",
    "\n",
    "import tensorflow as tf\n",
    "import pickle\n",
    "import helper\n",
    "import random\n",
    "\n",
    "# Set batch size if not already set\n",
    "try:\n",
    "    if batch_size:\n",
    "        pass\n",
    "except NameError:\n",
    "    batch_size = 64\n",
    "\n",
    "save_model_path = './image_classification'\n",
    "n_samples = 4\n",
    "top_n_predictions = 3\n",
    "\n",
    "def test_model():\n",
    "    \"\"\"\n",
    "    Test the saved model against the test dataset\n",
    "    \"\"\"\n",
    "\n",
    "    test_features, test_labels = pickle.load(open('preprocess_training.p', mode='rb'))\n",
    "    loaded_graph = tf.Graph()\n",
    "\n",
    "    with tf.Session(graph=loaded_graph) as sess:\n",
    "        # Load model\n",
    "        loader = tf.train.import_meta_graph(save_model_path + '.meta')\n",
    "        loader.restore(sess, save_model_path)\n",
    "\n",
    "        # Get Tensors from loaded model\n",
    "        loaded_x = loaded_graph.get_tensor_by_name('x:0')\n",
    "        loaded_y = loaded_graph.get_tensor_by_name('y:0')\n",
    "        loaded_keep_prob = loaded_graph.get_tensor_by_name('keep_prob:0')\n",
    "        loaded_logits = loaded_graph.get_tensor_by_name('logits:0')\n",
    "        loaded_acc = loaded_graph.get_tensor_by_name('accuracy:0')\n",
    "        \n",
    "        # Get accuracy in batches for memory limitations\n",
    "        test_batch_acc_total = 0\n",
    "        test_batch_count = 0\n",
    "        \n",
    "        for train_feature_batch, train_label_batch in helper.batch_features_labels(test_features, test_labels, batch_size):\n",
    "            test_batch_acc_total += sess.run(\n",
    "                loaded_acc,\n",
    "                feed_dict={loaded_x: train_feature_batch, loaded_y: train_label_batch, loaded_keep_prob: 1.0})\n",
    "            test_batch_count += 1\n",
    "\n",
    "        print('Testing Accuracy: {}\\n'.format(test_batch_acc_total/test_batch_count))\n",
    "\n",
    "        # Print Random Samples\n",
    "        random_test_features, random_test_labels = tuple(zip(*random.sample(list(zip(test_features, test_labels)), n_samples)))\n",
    "        random_test_predictions = sess.run(\n",
    "            tf.nn.top_k(tf.nn.softmax(loaded_logits), top_n_predictions),\n",
    "            feed_dict={loaded_x: random_test_features, loaded_y: random_test_labels, loaded_keep_prob: 1.0})\n",
    "        helper.display_image_predictions(random_test_features, random_test_labels, random_test_predictions)\n",
    "\n",
    "\n",
    "test_model()"
   ]
  },
  {
   "cell_type": "markdown",
   "metadata": {},
   "source": [
    "## Why 50-80% Accuracy?\n",
    "You might be wondering why you can't get an accuracy any higher. First things first, 50% isn't bad for a simple CNN.  Pure guessing would get you 10% accuracy. That's because there are many more techniques that can be applied to your model and we recemmond that once you are done with this project, you explore!\n",
    "\n",
    "## Submitting This Project\n",
    "When submitting this project, make sure to run all the cells before saving the notebook.  Save the notebook file as \"dlnd_image_classification.ipynb\" and save it as a HTML file under \"File\" -> \"Download as\".  Include the \"helper.py\" and \"problem_unittests.py\" files in your submission."
   ]
  }
 ],
 "metadata": {
  "kernelspec": {
   "display_name": "Python 3",
   "language": "python",
   "name": "python3"
  },
  "language_info": {
   "codemirror_mode": {
    "name": "ipython",
    "version": 3
   },
   "file_extension": ".py",
   "mimetype": "text/x-python",
   "name": "python",
   "nbconvert_exporter": "python",
   "pygments_lexer": "ipython3",
   "version": "3.5.3"
  }
 },
 "nbformat": 4,
 "nbformat_minor": 0
}
