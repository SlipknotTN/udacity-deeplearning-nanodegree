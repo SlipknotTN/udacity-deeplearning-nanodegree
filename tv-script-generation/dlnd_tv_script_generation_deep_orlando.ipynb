{
 "cells": [
  {
   "cell_type": "markdown",
   "metadata": {
    "deletable": true,
    "editable": true
   },
   "source": [
    "# TV Script Generation\n",
    "In this project, you'll generate your own [Simpsons](https://en.wikipedia.org/wiki/The_Simpsons) TV scripts using RNNs.  You'll be using part of the [Simpsons dataset](https://www.kaggle.com/wcukierski/the-simpsons-by-the-data) of scripts from 27 seasons.  The Neural Network you'll build will generate a new TV script for a scene at [Moe's Tavern](https://simpsonswiki.com/wiki/Moe's_Tavern).\n",
    "## Get the Data\n",
    "The data is already provided for you.  You'll be using a subset of the original dataset.  It consists of only the scenes in Moe's Tavern.  This doesn't include other versions of the tavern, like \"Moe's Cavern\", \"Flaming Moe's\", \"Uncle Moe's Family Feed-Bag\", etc.."
   ]
  },
  {
   "cell_type": "code",
   "execution_count": 1,
   "metadata": {
    "collapsed": false,
    "deletable": true,
    "editable": true
   },
   "outputs": [],
   "source": [
    "\"\"\"\n",
    "DON'T MODIFY ANYTHING IN THIS CELL\n",
    "\"\"\"\n",
    "import helper\n",
    "\n",
    "data_dir = './data/orlando_furioso.txt'\n",
    "text = helper.load_data(data_dir)\n",
    "# Ignore notice, since we don't use it for analysing the data\n",
    "#text = text[81:]\n",
    "\n",
    "# Need to clean by all numbers and subtitute italian tokens not present in english"
   ]
  },
  {
   "cell_type": "markdown",
   "metadata": {
    "deletable": true,
    "editable": true
   },
   "source": [
    "## Explore the Data\n",
    "Play around with `view_sentence_range` to view different parts of the data."
   ]
  },
  {
   "cell_type": "code",
   "execution_count": 2,
   "metadata": {
    "collapsed": false,
    "deletable": true,
    "editable": true
   },
   "outputs": [
    {
     "name": "stdout",
     "output_type": "stream",
     "text": [
      "Dataset Stats\n",
      "Roughly the number of unique words: 36772\n",
      "Number of scenes: 4892\n",
      "Average number of sentences in each scene: 7.937040065412919\n",
      "Number of lines: 43720\n",
      "Average number of words in each line: 6.223787740164684\n",
      "\n",
      "The sentences 0 to 10:\n",
      "Orlando furioso\n",
      "di Ludovico Ariosto\n",
      "\n",
      "\n",
      "\n",
      "CANTO PRIMO\n",
      "\n",
      "1\n",
      "Le donne, i cavallier, l'arme, gli amori,\n",
      "le cortesie, l'audaci imprese io canto,\n"
     ]
    }
   ],
   "source": [
    "view_sentence_range = (0, 10)\n",
    "\n",
    "\"\"\"\n",
    "DON'T MODIFY ANYTHING IN THIS CELL\n",
    "\"\"\"\n",
    "import numpy as np\n",
    "\n",
    "print('Dataset Stats')\n",
    "print('Roughly the number of unique words: {}'.format(len({word: None for word in text.split()})))\n",
    "scenes = text.split('\\n\\n')\n",
    "print('Number of scenes: {}'.format(len(scenes)))\n",
    "sentence_count_scene = [scene.count('\\n') for scene in scenes]\n",
    "print('Average number of sentences in each scene: {}'.format(np.average(sentence_count_scene)))\n",
    "\n",
    "sentences = [sentence for scene in scenes for sentence in scene.split('\\n')]\n",
    "print('Number of lines: {}'.format(len(sentences)))\n",
    "word_count_sentence = [len(sentence.split()) for sentence in sentences]\n",
    "print('Average number of words in each line: {}'.format(np.average(word_count_sentence)))\n",
    "\n",
    "print()\n",
    "print('The sentences {} to {}:'.format(*view_sentence_range))\n",
    "print('\\n'.join(text.split('\\n')[view_sentence_range[0]:view_sentence_range[1]]))"
   ]
  },
  {
   "cell_type": "markdown",
   "metadata": {
    "deletable": true,
    "editable": true
   },
   "source": [
    "## Implement Preprocessing Functions\n",
    "The first thing to do to any dataset is preprocessing.  Implement the following preprocessing functions below:\n",
    "- Lookup Table\n",
    "- Tokenize Punctuation\n",
    "\n",
    "### Lookup Table\n",
    "To create a word embedding, you first need to transform the words to ids.  In this function, create two dictionaries:\n",
    "- Dictionary to go from the words to an id, we'll call `vocab_to_int`\n",
    "- Dictionary to go from the id to word, we'll call `int_to_vocab`\n",
    "\n",
    "Return these dictionaries in the following tuple `(vocab_to_int, int_to_vocab)`"
   ]
  },
  {
   "cell_type": "code",
   "execution_count": 3,
   "metadata": {
    "collapsed": false,
    "deletable": true,
    "editable": true
   },
   "outputs": [
    {
     "name": "stdout",
     "output_type": "stream",
     "text": [
      "Tests Passed\n"
     ]
    }
   ],
   "source": [
    "import numpy as np\n",
    "import problem_unittests as tests\n",
    "\n",
    "def create_lookup_tables(text):\n",
    "    \"\"\"\n",
    "    Create lookup tables for vocabulary\n",
    "    :param text: The text of tv scripts split into words\n",
    "    :return: A tuple of dicts (vocab_to_int, int_to_vocab)\n",
    "    \"\"\"\n",
    "    words_ordered = sorted(set(text))\n",
    "    # TODO: Implement Function\n",
    "    vocab_to_int = {word: index for index, word in enumerate(words_ordered)}\n",
    "    int_to_vocab = {index: word for index, word in enumerate(words_ordered)}\n",
    "    return vocab_to_int, int_to_vocab\n",
    "\n",
    "\n",
    "\"\"\"\n",
    "DON'T MODIFY ANYTHING IN THIS CELL THAT IS BELOW THIS LINE\n",
    "\"\"\"\n",
    "tests.test_create_lookup_tables(create_lookup_tables)"
   ]
  },
  {
   "cell_type": "markdown",
   "metadata": {
    "deletable": true,
    "editable": true
   },
   "source": [
    "### Tokenize Punctuation\n",
    "We'll be splitting the script into a word array using spaces as delimiters.  However, punctuations like periods and exclamation marks make it hard for the neural network to distinguish between the word \"bye\" and \"bye!\".\n",
    "\n",
    "Implement the function `token_lookup` to return a dict that will be used to tokenize symbols like \"!\" into \"||Exclamation_Mark||\".  Create a dictionary for the following symbols where the symbol is the key and value is the token:\n",
    "- Period ( . )\n",
    "- Comma ( , )\n",
    "- Quotation Mark ( \" )\n",
    "- Semicolon ( ; )\n",
    "- Exclamation mark ( ! )\n",
    "- Question mark ( ? )\n",
    "- Left Parentheses ( ( )\n",
    "- Right Parentheses ( ) )\n",
    "- Dash ( -- )\n",
    "- Return ( \\n )\n",
    "\n",
    "This dictionary will be used to token the symbols and add the delimiter (space) around it.  This separates the symbols as it's own word, making it easier for the neural network to predict on the next word. Make sure you don't use a token that could be confused as a word. Instead of using the token \"dash\", try using something like \"||dash||\"."
   ]
  },
  {
   "cell_type": "code",
   "execution_count": 4,
   "metadata": {
    "collapsed": false,
    "deletable": true,
    "editable": true
   },
   "outputs": [
    {
     "name": "stdout",
     "output_type": "stream",
     "text": [
      "Tests Passed\n"
     ]
    }
   ],
   "source": [
    "def token_lookup():\n",
    "    \"\"\"\n",
    "    Generate a dict to turn punctuation into a token.\n",
    "    :return: Tokenize dictionary where the key is the punctuation and the value is the token\n",
    "    \"\"\"\n",
    "    # TODO: Implement Function\n",
    "    token_dict = dict()\n",
    "    token_dict['.'] = \"||Period||\"\n",
    "    token_dict[','] = \"||Comma||\"\n",
    "    token_dict['\"'] = \"||Quotation_Mark||\"\n",
    "    token_dict[';'] = \"||Semicolon||\"\n",
    "    token_dict['!'] = \"||Exclamation_Mark||\"\n",
    "    token_dict['?'] = \"||Question_Mark||\"\n",
    "    token_dict['('] = \"||Left_Parentheses||\"\n",
    "    token_dict[')'] = \"||Right_Parentheses||\"\n",
    "    token_dict['--'] = \"||Dash||\"\n",
    "    token_dict['\\n'] = \"||Return||\"\n",
    "    return token_dict\n",
    "\n",
    "\"\"\"\n",
    "DON'T MODIFY ANYTHING IN THIS CELL THAT IS BELOW THIS LINE\n",
    "\"\"\"\n",
    "tests.test_tokenize(token_lookup)"
   ]
  },
  {
   "cell_type": "markdown",
   "metadata": {
    "deletable": true,
    "editable": true
   },
   "source": [
    "## Preprocess all the data and save it\n",
    "Running the code cell below will preprocess all the data and save it to file."
   ]
  },
  {
   "cell_type": "code",
   "execution_count": 5,
   "metadata": {
    "collapsed": false,
    "deletable": true,
    "editable": true
   },
   "outputs": [],
   "source": [
    "\"\"\"\n",
    "DON'T MODIFY ANYTHING IN THIS CELL\n",
    "\"\"\"\n",
    "# Preprocess Training, Validation, and Testing Data\n",
    "helper.preprocess_and_save_data(data_dir, token_lookup, create_lookup_tables)"
   ]
  },
  {
   "cell_type": "markdown",
   "metadata": {
    "deletable": true,
    "editable": true
   },
   "source": [
    "# Check Point\n",
    "This is your first checkpoint. If you ever decide to come back to this notebook or have to restart the notebook, you can start from here. The preprocessed data has been saved to disk."
   ]
  },
  {
   "cell_type": "code",
   "execution_count": 6,
   "metadata": {
    "collapsed": false,
    "deletable": true,
    "editable": true
   },
   "outputs": [],
   "source": [
    "\"\"\"\n",
    "DON'T MODIFY ANYTHING IN THIS CELL\n",
    "\"\"\"\n",
    "import helper\n",
    "import numpy as np\n",
    "import problem_unittests as tests\n",
    "\n",
    "int_text, vocab_to_int, int_to_vocab, token_dict = helper.load_preprocess()"
   ]
  },
  {
   "cell_type": "markdown",
   "metadata": {
    "deletable": true,
    "editable": true
   },
   "source": [
    "## Build the Neural Network\n",
    "You'll build the components necessary to build a RNN by implementing the following functions below:\n",
    "- get_inputs\n",
    "- get_init_cell\n",
    "- get_embed\n",
    "- build_rnn\n",
    "- build_nn\n",
    "- get_batches\n",
    "\n",
    "### Check the Version of TensorFlow and Access to GPU"
   ]
  },
  {
   "cell_type": "code",
   "execution_count": 7,
   "metadata": {
    "collapsed": false
   },
   "outputs": [
    {
     "name": "stdout",
     "output_type": "stream",
     "text": [
      "TensorFlow Version: 1.0.1\n",
      "Default GPU Device: /gpu:0\n"
     ]
    }
   ],
   "source": [
    "\"\"\"\n",
    "DON'T MODIFY ANYTHING IN THIS CELL\n",
    "\"\"\"\n",
    "from distutils.version import LooseVersion\n",
    "import warnings\n",
    "import tensorflow as tf\n",
    "\n",
    "# Check TensorFlow Version\n",
    "assert LooseVersion(tf.__version__) >= LooseVersion('1.0'), 'Please use TensorFlow version 1.0 or newer'\n",
    "print('TensorFlow Version: {}'.format(tf.__version__))\n",
    "\n",
    "# Check for a GPU\n",
    "if not tf.test.gpu_device_name():\n",
    "    warnings.warn('No GPU found. Please use a GPU to train your neural network.')\n",
    "else:\n",
    "    print('Default GPU Device: {}'.format(tf.test.gpu_device_name()))"
   ]
  },
  {
   "cell_type": "markdown",
   "metadata": {},
   "source": [
    "### Input\n",
    "Implement the `get_inputs()` function to create TF Placeholders for the Neural Network.  It should create the following placeholders:\n",
    "- Input text placeholder named \"input\" using the [TF Placeholder](https://www.tensorflow.org/api_docs/python/tf/placeholder) `name` parameter.\n",
    "- Targets placeholder\n",
    "- Learning Rate placeholder\n",
    "\n",
    "Return the placeholders in the following tuple `(Input, Targets, LearningRate)`"
   ]
  },
  {
   "cell_type": "code",
   "execution_count": 8,
   "metadata": {
    "collapsed": false,
    "deletable": true,
    "editable": true
   },
   "outputs": [
    {
     "name": "stdout",
     "output_type": "stream",
     "text": [
      "Tests Passed\n"
     ]
    }
   ],
   "source": [
    "def get_inputs():\n",
    "    \"\"\"\n",
    "    Create TF Placeholders for input, targets, and learning rate.\n",
    "    :return: Tuple (input, targets, learning rate)\n",
    "    \"\"\"\n",
    "    # TODO: Implement Function\n",
    "    inputs = tf.placeholder(tf.int32, shape=(None, None), name=\"input\")\n",
    "    targets = tf.placeholder(tf.int32, shape=(None,None), name=\"targets\")\n",
    "    learning_rate = tf.placeholder(tf.float32, name=\"learning_rate\")\n",
    "    return inputs, targets, learning_rate\n",
    "\n",
    "\n",
    "\"\"\"\n",
    "DON'T MODIFY ANYTHING IN THIS CELL THAT IS BELOW THIS LINE\n",
    "\"\"\"\n",
    "tests.test_get_inputs(get_inputs)"
   ]
  },
  {
   "cell_type": "markdown",
   "metadata": {
    "deletable": true,
    "editable": true
   },
   "source": [
    "### Build RNN Cell and Initialize\n",
    "Stack one or more [`BasicLSTMCells`](https://www.tensorflow.org/api_docs/python/tf/contrib/rnn/BasicLSTMCell) in a [`MultiRNNCell`](https://www.tensorflow.org/api_docs/python/tf/contrib/rnn/MultiRNNCell).\n",
    "- The Rnn size should be set using `rnn_size`\n",
    "- Initalize Cell State using the MultiRNNCell's [`zero_state()`](https://www.tensorflow.org/api_docs/python/tf/contrib/rnn/MultiRNNCell#zero_state) function\n",
    "    - Apply the name \"initial_state\" to the initial state using [`tf.identity()`](https://www.tensorflow.org/api_docs/python/tf/identity)\n",
    "\n",
    "Return the cell and initial state in the following tuple `(Cell, InitialState)`"
   ]
  },
  {
   "cell_type": "code",
   "execution_count": 9,
   "metadata": {
    "collapsed": false,
    "deletable": true,
    "editable": true
   },
   "outputs": [
    {
     "name": "stdout",
     "output_type": "stream",
     "text": [
      "Tests Passed\n"
     ]
    }
   ],
   "source": [
    "def get_init_cell(batch_size, rnn_size):\n",
    "    \"\"\"\n",
    "    Create an RNN Cell and initialize it.\n",
    "    :param batch_size: Size of batches\n",
    "    :param rnn_size: Size of RNNs\n",
    "    :return: Tuple (cell, initialize state)\n",
    "    \"\"\"\n",
    "    # TODO: Implement Function\n",
    "    lstm_layers = 2 #Need to pass test?! (otherwise final_state shape will be wrong)\n",
    "    lstm = tf.contrib.rnn.BasicLSTMCell(num_units=rnn_size)\n",
    "    cell = tf.contrib.rnn.MultiRNNCell([lstm] * lstm_layers)\n",
    "    initial_state = cell.zero_state(batch_size, tf.float32)\n",
    "    # print(initial_state)\n",
    "    initial_state = tf.identity(initial_state, name=\"initial_state\")\n",
    "    return cell, initial_state\n",
    "\n",
    "\n",
    "\"\"\"\n",
    "DON'T MODIFY ANYTHING IN THIS CELL THAT IS BELOW THIS LINE\n",
    "\"\"\"\n",
    "tests.test_get_init_cell(get_init_cell)"
   ]
  },
  {
   "cell_type": "markdown",
   "metadata": {
    "deletable": true,
    "editable": true
   },
   "source": [
    "### Word Embedding\n",
    "Apply embedding to `input_data` using TensorFlow.  Return the embedded sequence."
   ]
  },
  {
   "cell_type": "code",
   "execution_count": 10,
   "metadata": {
    "collapsed": false,
    "deletable": true,
    "editable": true
   },
   "outputs": [
    {
     "name": "stdout",
     "output_type": "stream",
     "text": [
      "Tests Passed\n"
     ]
    }
   ],
   "source": [
    "def get_embed(input_data, vocab_size, embed_dim):\n",
    "    \"\"\"\n",
    "    Create embedding for <input_data>.\n",
    "    :param input_data: TF placeholder for text input.\n",
    "    :param vocab_size: Number of words in vocabulary.\n",
    "    :param embed_dim: Number of embedding dimensions\n",
    "    :return: Embedded input.\n",
    "    \"\"\"\n",
    "    # TODO: Implement Function\n",
    "    embeddings = tf.Variable(tf.random_uniform((vocab_size, embed_dim), -1, 1))\n",
    "    embed = tf.nn.embedding_lookup(embeddings, ids=input_data)\n",
    "    return embed\n",
    "\n",
    "\n",
    "\"\"\"\n",
    "DON'T MODIFY ANYTHING IN THIS CELL THAT IS BELOW THIS LINE\n",
    "\"\"\"\n",
    "tests.test_get_embed(get_embed)"
   ]
  },
  {
   "cell_type": "markdown",
   "metadata": {
    "deletable": true,
    "editable": true
   },
   "source": [
    "### Build RNN\n",
    "You created a RNN Cell in the `get_init_cell()` function.  Time to use the cell to create a RNN.\n",
    "- Build the RNN using the [`tf.nn.dynamic_rnn()`](https://www.tensorflow.org/api_docs/python/tf/nn/dynamic_rnn)\n",
    " - Apply the name \"final_state\" to the final state using [`tf.identity()`](https://www.tensorflow.org/api_docs/python/tf/identity)\n",
    "\n",
    "Return the outputs and final_state state in the following tuple `(Outputs, FinalState)` "
   ]
  },
  {
   "cell_type": "code",
   "execution_count": 11,
   "metadata": {
    "collapsed": false,
    "deletable": true,
    "editable": true
   },
   "outputs": [
    {
     "name": "stdout",
     "output_type": "stream",
     "text": [
      "Tests Passed\n"
     ]
    }
   ],
   "source": [
    "def build_rnn(cell, inputs):\n",
    "    \"\"\"\n",
    "    Create a RNN using a RNN Cell\n",
    "    :param cell: RNN Cell\n",
    "    :param inputs: Input text data\n",
    "    :return: Tuple (Outputs, Final State)\n",
    "    \"\"\"\n",
    "    # TODO: Implement Function\n",
    "    #print(cell)\n",
    "    #print(inputs)\n",
    "    outputs, final_state = tf.nn.dynamic_rnn(cell, inputs, dtype=tf.float32)\n",
    "        \n",
    "    final_state = tf.identity(final_state, name=\"final_state\")\n",
    "    # Shape is lstm_layers x 2 (inputs and targets) x None (batch_size) x lstm_units\n",
    "    #print(final_state)\n",
    "    return outputs, final_state\n",
    "\n",
    "\n",
    "\"\"\"\n",
    "DON'T MODIFY ANYTHING IN THIS CELL THAT IS BELOW THIS LINE\n",
    "\"\"\"\n",
    "tests.test_build_rnn(build_rnn)"
   ]
  },
  {
   "cell_type": "markdown",
   "metadata": {
    "deletable": true,
    "editable": true
   },
   "source": [
    "### Build the Neural Network\n",
    "Apply the functions you implemented above to:\n",
    "- Apply embedding to `input_data` using your `get_embed(input_data, vocab_size, embed_dim)` function.\n",
    "- Build RNN using `cell` and your `build_rnn(cell, inputs)` function.\n",
    "- Apply a fully connected layer with a linear activation and `vocab_size` as the number of outputs.\n",
    "\n",
    "Return the logits and final state in the following tuple (Logits, FinalState) "
   ]
  },
  {
   "cell_type": "code",
   "execution_count": 12,
   "metadata": {
    "collapsed": false,
    "deletable": true,
    "editable": true
   },
   "outputs": [
    {
     "name": "stdout",
     "output_type": "stream",
     "text": [
      "Tests Passed\n"
     ]
    }
   ],
   "source": [
    "def build_nn(cell, rnn_size, input_data, vocab_size, embed_dim):\n",
    "    \"\"\"\n",
    "    Build part of the neural network\n",
    "    :param cell: RNN cell\n",
    "    :param rnn_size: Size of rnns\n",
    "    :param input_data: Input data\n",
    "    :param vocab_size: Vocabulary size\n",
    "    :param embed_dim: Number of embedding dimensions\n",
    "    :return: Tuple (Logits, FinalState)\n",
    "    \"\"\"\n",
    "    # TODO: Implement Function\n",
    "    embed = get_embed(input_data, vocab_size, embed_dim=embed_dim)\n",
    "    # outputs shape is batch_size x seq_len x lstm_units\n",
    "    outputs, final_state = build_rnn(cell, inputs=embed)\n",
    "    #print(outputs.shape)\n",
    "    logits = tf.contrib.layers.fully_connected(outputs, vocab_size, activation_fn=None)\n",
    "    # logits shape is batch_size x seq_len x vocab_size\n",
    "    #print(logits.shape)\n",
    "    return logits, final_state\n",
    "\n",
    "\n",
    "\"\"\"\n",
    "DON'T MODIFY ANYTHING IN THIS CELL THAT IS BELOW THIS LINE\n",
    "\"\"\"\n",
    "tests.test_build_nn(build_nn)"
   ]
  },
  {
   "cell_type": "markdown",
   "metadata": {
    "deletable": true,
    "editable": true
   },
   "source": [
    "### Batches\n",
    "Implement `get_batches` to create batches of input and targets using `int_text`.  The batches should be a Numpy array with the shape `(number of batches, 2, batch size, sequence length)`. Each batch contains two elements:\n",
    "- The first element is a single batch of **input** with the shape `[batch size, sequence length]`\n",
    "- The second element is a single batch of **targets** with the shape `[batch size, sequence length]`\n",
    "\n",
    "If you can't fill the last batch with enough data, drop the last batch.\n",
    "\n",
    "For exmple, `get_batches([1, 2, 3, 4, 5, 6, 7, 8, 9, 10, 11, 12, 13, 14, 15], 2, 3)` would return a Numpy array of the following:\n",
    "```\n",
    "[\n",
    "  # First Batch\n",
    "  [\n",
    "    # Batch of Input\n",
    "    [[ 1  2  3], [ 7  8  9]],\n",
    "    # Batch of targets\n",
    "    [[ 2  3  4], [ 8  9 10]]\n",
    "  ],\n",
    " \n",
    "  # Second Batch\n",
    "  [\n",
    "    # Batch of Input\n",
    "    [[ 4  5  6], [10 11 12]],\n",
    "    # Batch of targets\n",
    "    [[ 5  6  7], [11 12 13]]\n",
    "  ]\n",
    "]\n",
    "```"
   ]
  },
  {
   "cell_type": "code",
   "execution_count": 13,
   "metadata": {
    "collapsed": false,
    "deletable": true,
    "editable": true
   },
   "outputs": [
    {
     "name": "stdout",
     "output_type": "stream",
     "text": [
      "Tests Passed\n"
     ]
    }
   ],
   "source": [
    "def get_batches(int_text, batch_size, seq_length):\n",
    "    \"\"\"\n",
    "    Return batches of input and target\n",
    "    :param int_text: Text with the words replaced by their ids\n",
    "    :param batch_size: The size of batch\n",
    "    :param seq_length: The length of sequence\n",
    "    :return: Batches as a Numpy array\n",
    "    \"\"\"\n",
    "    #print(\"Batch_size: \" + str(batch_size))\n",
    "    #print(\"Seq length: \" + str(seq_length))\n",
    "    \n",
    "    # Consider that targets is shifted by 1\n",
    "    num_batches = len(int_text)//(batch_size * seq_length + 1)\n",
    "    #print(\"Num batches: \" + str(num_batches))\n",
    "    #print(\"Text length: \" + str(len(int_text)))\n",
    "    \n",
    "    batches = np.zeros(shape=(num_batches, 2, batch_size, seq_length), dtype=np.int32)\n",
    "    \n",
    "    #print(batches.shape)\n",
    "    \n",
    "    # TODO: Add a smarter check\n",
    "    for batch_index in range(0, num_batches):\n",
    "        \n",
    "        for in_batch_index in range(0, batch_size):\n",
    "            start_x = (batch_index * seq_length) + (seq_length * num_batches * in_batch_index)\n",
    "            start_y = start_x + 1\n",
    "            x = int_text[start_x : start_x + seq_length]\n",
    "            y = int_text[start_y : start_y + seq_length]\n",
    "            #print(\"batch_index: \" + str(batch_index))\n",
    "            #print(\"in_batch_index: \" + str(in_batch_index))\n",
    "            #print(\"start_x: \" + str(start_x))\n",
    "            #print(x)\n",
    "            batches[batch_index][0][in_batch_index] = np.asarray(x)\n",
    "            batches[batch_index][1][in_batch_index] = np.asarray(y)\n",
    "    \n",
    "    #print(batches)\n",
    "    return batches\n",
    "\n",
    "\"\"\"\n",
    "DON'T MODIFY ANYTHING IN THIS CELL THAT IS BELOW THIS LINE\n",
    "\"\"\"\n",
    "tests.test_get_batches(get_batches)"
   ]
  },
  {
   "cell_type": "markdown",
   "metadata": {
    "deletable": true,
    "editable": true
   },
   "source": [
    "## Neural Network Training\n",
    "### Hyperparameters\n",
    "Tune the following parameters:\n",
    "\n",
    "- Set `num_epochs` to the number of epochs.\n",
    "- Set `batch_size` to the batch size.\n",
    "- Set `rnn_size` to the size of the RNNs.\n",
    "- Set `embed_dim` to the size of the embedding.\n",
    "- Set `seq_length` to the length of sequence.\n",
    "- Set `learning_rate` to the learning rate.\n",
    "- Set `show_every_n_batches` to the number of batches the neural network should print progress."
   ]
  },
  {
   "cell_type": "code",
   "execution_count": 14,
   "metadata": {
    "collapsed": true,
    "deletable": true,
    "editable": true
   },
   "outputs": [],
   "source": [
    "# FINAL LOSS:  - Seq length 20, LR 0.001, Epochs 200\n",
    "\n",
    "# Number of Epochs\n",
    "num_epochs = 200\n",
    "# Batch Size\n",
    "batch_size = 64\n",
    "# RNN Size\n",
    "rnn_size = 256\n",
    "# Embedding Dimension Size\n",
    "embed_dim = 300\n",
    "# Sequence Length\n",
    "seq_length = 20\n",
    "# Learning Rate\n",
    "learning_rate = 0.001\n",
    "# Show stats for every n number of batches\n",
    "show_every_n_batches = 99\n",
    "\n",
    "\"\"\"\n",
    "DON'T MODIFY ANYTHING IN THIS CELL THAT IS BELOW THIS LINE\n",
    "\"\"\"\n",
    "save_dir = './save'"
   ]
  },
  {
   "cell_type": "markdown",
   "metadata": {
    "deletable": true,
    "editable": true
   },
   "source": [
    "### Build the Graph\n",
    "Build the graph using the neural network you implemented."
   ]
  },
  {
   "cell_type": "code",
   "execution_count": 15,
   "metadata": {
    "collapsed": false,
    "deletable": true,
    "editable": true
   },
   "outputs": [],
   "source": [
    "\"\"\"\n",
    "DON'T MODIFY ANYTHING IN THIS CELL\n",
    "\"\"\"\n",
    "from tensorflow.contrib import seq2seq\n",
    "\n",
    "train_graph = tf.Graph()\n",
    "with train_graph.as_default():\n",
    "    vocab_size = len(int_to_vocab)\n",
    "    input_text, targets, lr = get_inputs()\n",
    "    input_data_shape = tf.shape(input_text)\n",
    "    cell, initial_state = get_init_cell(input_data_shape[0], rnn_size)\n",
    "    logits, final_state = build_nn(cell, rnn_size, input_text, vocab_size, embed_dim)\n",
    "\n",
    "    # Probabilities for generating words\n",
    "    # probs shape is batch_size x seq_len x vocab_size\n",
    "    probs = tf.nn.softmax(logits, name='probs')\n",
    "    #print(probs.shape)\n",
    "    \n",
    "    # Loss function\n",
    "    cost = seq2seq.sequence_loss(\n",
    "        logits,\n",
    "        targets,\n",
    "        tf.ones([input_data_shape[0], input_data_shape[1]]))\n",
    "\n",
    "    # Optimizer\n",
    "    optimizer = tf.train.AdamOptimizer(lr)\n",
    "\n",
    "    # Gradient Clipping\n",
    "    gradients = optimizer.compute_gradients(cost)\n",
    "    capped_gradients = [(tf.clip_by_value(grad, -1., 1.), var) for grad, var in gradients]\n",
    "    train_op = optimizer.apply_gradients(capped_gradients)"
   ]
  },
  {
   "cell_type": "markdown",
   "metadata": {
    "deletable": true,
    "editable": true
   },
   "source": [
    "## Train\n",
    "Train the neural network on the preprocessed data.  If you have a hard time getting a good loss, check the [forms](https://discussions.udacity.com/) to see if anyone is having the same problem."
   ]
  },
  {
   "cell_type": "code",
   "execution_count": 16,
   "metadata": {
    "collapsed": false,
    "deletable": true,
    "editable": true
   },
   "outputs": [
    {
     "name": "stdout",
     "output_type": "stream",
     "text": [
      "Epoch   0 Batch    0/281   train_loss = 10.053\n",
      "Epoch   0 Batch   99/281   train_loss = 6.716\n",
      "Epoch   0 Batch  198/281   train_loss = 6.579\n",
      "Epoch   1 Batch   16/281   train_loss = 6.412\n",
      "Epoch   1 Batch  115/281   train_loss = 6.368\n",
      "Epoch   1 Batch  214/281   train_loss = 6.261\n",
      "Epoch   2 Batch   32/281   train_loss = 6.280\n",
      "Epoch   2 Batch  131/281   train_loss = 6.356\n",
      "Epoch   2 Batch  230/281   train_loss = 6.229\n",
      "Epoch   3 Batch   48/281   train_loss = 6.357\n",
      "Epoch   3 Batch  147/281   train_loss = 6.148\n",
      "Epoch   3 Batch  246/281   train_loss = 6.164\n",
      "Epoch   4 Batch   64/281   train_loss = 6.027\n",
      "Epoch   4 Batch  163/281   train_loss = 5.965\n",
      "Epoch   4 Batch  262/281   train_loss = 5.926\n",
      "Epoch   5 Batch   80/281   train_loss = 5.935\n",
      "Epoch   5 Batch  179/281   train_loss = 5.826\n",
      "Epoch   5 Batch  278/281   train_loss = 5.967\n",
      "Epoch   6 Batch   96/281   train_loss = 5.809\n",
      "Epoch   6 Batch  195/281   train_loss = 5.725\n",
      "Epoch   7 Batch   13/281   train_loss = 5.735\n",
      "Epoch   7 Batch  112/281   train_loss = 5.746\n",
      "Epoch   7 Batch  211/281   train_loss = 5.736\n",
      "Epoch   8 Batch   29/281   train_loss = 5.727\n",
      "Epoch   8 Batch  128/281   train_loss = 5.614\n",
      "Epoch   8 Batch  227/281   train_loss = 5.635\n",
      "Epoch   9 Batch   45/281   train_loss = 5.657\n",
      "Epoch   9 Batch  144/281   train_loss = 5.633\n",
      "Epoch   9 Batch  243/281   train_loss = 5.581\n",
      "Epoch  10 Batch   61/281   train_loss = 5.458\n",
      "Epoch  10 Batch  160/281   train_loss = 5.581\n",
      "Epoch  10 Batch  259/281   train_loss = 5.443\n",
      "Epoch  11 Batch   77/281   train_loss = 5.634\n",
      "Epoch  11 Batch  176/281   train_loss = 5.559\n",
      "Epoch  11 Batch  275/281   train_loss = 5.364\n",
      "Epoch  12 Batch   93/281   train_loss = 5.281\n",
      "Epoch  12 Batch  192/281   train_loss = 5.425\n",
      "Epoch  13 Batch   10/281   train_loss = 5.492\n",
      "Epoch  13 Batch  109/281   train_loss = 5.200\n",
      "Epoch  13 Batch  208/281   train_loss = 5.312\n",
      "Epoch  14 Batch   26/281   train_loss = 5.132\n",
      "Epoch  14 Batch  125/281   train_loss = 5.182\n",
      "Epoch  14 Batch  224/281   train_loss = 5.199\n",
      "Epoch  15 Batch   42/281   train_loss = 5.148\n",
      "Epoch  15 Batch  141/281   train_loss = 5.160\n",
      "Epoch  15 Batch  240/281   train_loss = 5.055\n",
      "Epoch  16 Batch   58/281   train_loss = 5.029\n",
      "Epoch  16 Batch  157/281   train_loss = 5.052\n",
      "Epoch  16 Batch  256/281   train_loss = 4.922\n",
      "Epoch  17 Batch   74/281   train_loss = 4.942\n",
      "Epoch  17 Batch  173/281   train_loss = 4.948\n",
      "Epoch  17 Batch  272/281   train_loss = 4.866\n",
      "Epoch  18 Batch   90/281   train_loss = 4.820\n",
      "Epoch  18 Batch  189/281   train_loss = 4.744\n",
      "Epoch  19 Batch    7/281   train_loss = 4.822\n",
      "Epoch  19 Batch  106/281   train_loss = 4.634\n",
      "Epoch  19 Batch  205/281   train_loss = 4.727\n",
      "Epoch  20 Batch   23/281   train_loss = 4.608\n",
      "Epoch  20 Batch  122/281   train_loss = 4.724\n",
      "Epoch  20 Batch  221/281   train_loss = 4.574\n",
      "Epoch  21 Batch   39/281   train_loss = 4.558\n",
      "Epoch  21 Batch  138/281   train_loss = 4.609\n",
      "Epoch  21 Batch  237/281   train_loss = 4.545\n",
      "Epoch  22 Batch   55/281   train_loss = 4.541\n",
      "Epoch  22 Batch  154/281   train_loss = 4.509\n",
      "Epoch  22 Batch  253/281   train_loss = 4.508\n",
      "Epoch  23 Batch   71/281   train_loss = 4.313\n",
      "Epoch  23 Batch  170/281   train_loss = 4.380\n",
      "Epoch  23 Batch  269/281   train_loss = 4.260\n",
      "Epoch  24 Batch   87/281   train_loss = 4.318\n",
      "Epoch  24 Batch  186/281   train_loss = 4.158\n",
      "Epoch  25 Batch    4/281   train_loss = 4.242\n",
      "Epoch  25 Batch  103/281   train_loss = 4.238\n",
      "Epoch  25 Batch  202/281   train_loss = 4.223\n",
      "Epoch  26 Batch   20/281   train_loss = 4.140\n",
      "Epoch  26 Batch  119/281   train_loss = 4.239\n",
      "Epoch  26 Batch  218/281   train_loss = 4.087\n",
      "Epoch  27 Batch   36/281   train_loss = 4.144\n",
      "Epoch  27 Batch  135/281   train_loss = 4.085\n",
      "Epoch  27 Batch  234/281   train_loss = 4.101\n",
      "Epoch  28 Batch   52/281   train_loss = 3.897\n",
      "Epoch  28 Batch  151/281   train_loss = 4.079\n",
      "Epoch  28 Batch  250/281   train_loss = 3.974\n",
      "Epoch  29 Batch   68/281   train_loss = 3.881\n",
      "Epoch  29 Batch  167/281   train_loss = 3.775\n",
      "Epoch  29 Batch  266/281   train_loss = 3.876\n",
      "Epoch  30 Batch   84/281   train_loss = 3.826\n",
      "Epoch  30 Batch  183/281   train_loss = 3.728\n",
      "Epoch  31 Batch    1/281   train_loss = 3.708\n",
      "Epoch  31 Batch  100/281   train_loss = 3.632\n",
      "Epoch  31 Batch  199/281   train_loss = 3.625\n",
      "Epoch  32 Batch   17/281   train_loss = 3.604\n",
      "Epoch  32 Batch  116/281   train_loss = 3.627\n",
      "Epoch  32 Batch  215/281   train_loss = 3.591\n",
      "Epoch  33 Batch   33/281   train_loss = 3.613\n",
      "Epoch  33 Batch  132/281   train_loss = 3.515\n",
      "Epoch  33 Batch  231/281   train_loss = 3.537\n",
      "Epoch  34 Batch   49/281   train_loss = 3.497\n",
      "Epoch  34 Batch  148/281   train_loss = 3.427\n",
      "Epoch  34 Batch  247/281   train_loss = 3.376\n",
      "Epoch  35 Batch   65/281   train_loss = 3.428\n",
      "Epoch  35 Batch  164/281   train_loss = 3.465\n",
      "Epoch  35 Batch  263/281   train_loss = 3.369\n",
      "Epoch  36 Batch   81/281   train_loss = 3.294\n",
      "Epoch  36 Batch  180/281   train_loss = 3.374\n",
      "Epoch  36 Batch  279/281   train_loss = 3.150\n",
      "Epoch  37 Batch   97/281   train_loss = 3.305\n",
      "Epoch  37 Batch  196/281   train_loss = 3.205\n",
      "Epoch  38 Batch   14/281   train_loss = 3.204\n",
      "Epoch  38 Batch  113/281   train_loss = 3.249\n",
      "Epoch  38 Batch  212/281   train_loss = 3.341\n",
      "Epoch  39 Batch   30/281   train_loss = 3.027\n",
      "Epoch  39 Batch  129/281   train_loss = 3.106\n",
      "Epoch  39 Batch  228/281   train_loss = 3.084\n",
      "Epoch  40 Batch   46/281   train_loss = 3.068\n",
      "Epoch  40 Batch  145/281   train_loss = 2.939\n",
      "Epoch  40 Batch  244/281   train_loss = 2.989\n",
      "Epoch  41 Batch   62/281   train_loss = 3.109\n",
      "Epoch  41 Batch  161/281   train_loss = 2.963\n",
      "Epoch  41 Batch  260/281   train_loss = 3.037\n",
      "Epoch  42 Batch   78/281   train_loss = 2.991\n",
      "Epoch  42 Batch  177/281   train_loss = 2.950\n",
      "Epoch  42 Batch  276/281   train_loss = 2.983\n",
      "Epoch  43 Batch   94/281   train_loss = 2.939\n",
      "Epoch  43 Batch  193/281   train_loss = 2.954\n",
      "Epoch  44 Batch   11/281   train_loss = 2.888\n",
      "Epoch  44 Batch  110/281   train_loss = 2.884\n",
      "Epoch  44 Batch  209/281   train_loss = 2.786\n",
      "Epoch  45 Batch   27/281   train_loss = 2.666\n",
      "Epoch  45 Batch  126/281   train_loss = 2.778\n",
      "Epoch  45 Batch  225/281   train_loss = 2.757\n",
      "Epoch  46 Batch   43/281   train_loss = 2.806\n",
      "Epoch  46 Batch  142/281   train_loss = 2.755\n",
      "Epoch  46 Batch  241/281   train_loss = 2.758\n",
      "Epoch  47 Batch   59/281   train_loss = 2.653\n",
      "Epoch  47 Batch  158/281   train_loss = 2.681\n",
      "Epoch  47 Batch  257/281   train_loss = 2.654\n",
      "Epoch  48 Batch   75/281   train_loss = 2.570\n",
      "Epoch  48 Batch  174/281   train_loss = 2.656\n",
      "Epoch  48 Batch  273/281   train_loss = 2.609\n",
      "Epoch  49 Batch   91/281   train_loss = 2.642\n",
      "Epoch  49 Batch  190/281   train_loss = 2.626\n",
      "Epoch  50 Batch    8/281   train_loss = 2.483\n",
      "Epoch  50 Batch  107/281   train_loss = 2.563\n",
      "Epoch  50 Batch  206/281   train_loss = 2.747\n",
      "Epoch  51 Batch   24/281   train_loss = 2.453\n",
      "Epoch  51 Batch  123/281   train_loss = 2.358\n",
      "Epoch  51 Batch  222/281   train_loss = 2.408\n",
      "Epoch  52 Batch   40/281   train_loss = 2.452\n",
      "Epoch  52 Batch  139/281   train_loss = 2.453\n",
      "Epoch  52 Batch  238/281   train_loss = 2.460\n",
      "Epoch  53 Batch   56/281   train_loss = 2.467\n",
      "Epoch  53 Batch  155/281   train_loss = 2.411\n",
      "Epoch  53 Batch  254/281   train_loss = 2.391\n",
      "Epoch  54 Batch   72/281   train_loss = 2.305\n",
      "Epoch  54 Batch  171/281   train_loss = 2.432\n",
      "Epoch  54 Batch  270/281   train_loss = 2.263\n",
      "Epoch  55 Batch   88/281   train_loss = 2.252\n",
      "Epoch  55 Batch  187/281   train_loss = 2.321\n",
      "Epoch  56 Batch    5/281   train_loss = 2.325\n",
      "Epoch  56 Batch  104/281   train_loss = 2.217\n",
      "Epoch  56 Batch  203/281   train_loss = 2.176\n",
      "Epoch  57 Batch   21/281   train_loss = 2.212\n",
      "Epoch  57 Batch  120/281   train_loss = 2.052\n",
      "Epoch  57 Batch  219/281   train_loss = 2.250\n",
      "Epoch  58 Batch   37/281   train_loss = 2.207\n",
      "Epoch  58 Batch  136/281   train_loss = 2.232\n",
      "Epoch  58 Batch  235/281   train_loss = 2.011\n",
      "Epoch  59 Batch   53/281   train_loss = 2.218\n",
      "Epoch  59 Batch  152/281   train_loss = 2.117\n",
      "Epoch  59 Batch  251/281   train_loss = 2.103\n",
      "Epoch  60 Batch   69/281   train_loss = 2.048\n",
      "Epoch  60 Batch  168/281   train_loss = 2.125\n",
      "Epoch  60 Batch  267/281   train_loss = 1.972\n",
      "Epoch  61 Batch   85/281   train_loss = 2.155\n",
      "Epoch  61 Batch  184/281   train_loss = 2.193\n",
      "Epoch  62 Batch    2/281   train_loss = 2.028\n",
      "Epoch  62 Batch  101/281   train_loss = 1.818\n",
      "Epoch  62 Batch  200/281   train_loss = 1.948\n",
      "Epoch  63 Batch   18/281   train_loss = 1.893\n",
      "Epoch  63 Batch  117/281   train_loss = 1.879\n",
      "Epoch  63 Batch  216/281   train_loss = 1.983\n",
      "Epoch  64 Batch   34/281   train_loss = 1.864\n",
      "Epoch  64 Batch  133/281   train_loss = 1.917\n",
      "Epoch  64 Batch  232/281   train_loss = 1.839\n",
      "Epoch  65 Batch   50/281   train_loss = 1.866\n",
      "Epoch  65 Batch  149/281   train_loss = 2.002\n",
      "Epoch  65 Batch  248/281   train_loss = 1.986\n",
      "Epoch  66 Batch   66/281   train_loss = 2.030\n",
      "Epoch  66 Batch  165/281   train_loss = 1.948\n",
      "Epoch  66 Batch  264/281   train_loss = 2.035\n",
      "Epoch  67 Batch   82/281   train_loss = 1.832\n",
      "Epoch  67 Batch  181/281   train_loss = 2.010\n",
      "Epoch  67 Batch  280/281   train_loss = 1.700\n",
      "Epoch  68 Batch   98/281   train_loss = 1.881\n",
      "Epoch  68 Batch  197/281   train_loss = 1.823\n",
      "Epoch  69 Batch   15/281   train_loss = 2.007\n",
      "Epoch  69 Batch  114/281   train_loss = 1.828\n",
      "Epoch  69 Batch  213/281   train_loss = 1.865\n",
      "Epoch  70 Batch   31/281   train_loss = 1.900\n",
      "Epoch  70 Batch  130/281   train_loss = 1.637\n",
      "Epoch  70 Batch  229/281   train_loss = 1.805\n",
      "Epoch  71 Batch   47/281   train_loss = 1.791\n",
      "Epoch  71 Batch  146/281   train_loss = 1.717\n",
      "Epoch  71 Batch  245/281   train_loss = 1.712\n",
      "Epoch  72 Batch   63/281   train_loss = 1.735\n",
      "Epoch  72 Batch  162/281   train_loss = 1.766\n",
      "Epoch  72 Batch  261/281   train_loss = 1.766\n",
      "Epoch  73 Batch   79/281   train_loss = 1.640\n",
      "Epoch  73 Batch  178/281   train_loss = 1.769\n",
      "Epoch  73 Batch  277/281   train_loss = 1.620\n",
      "Epoch  74 Batch   95/281   train_loss = 1.920\n",
      "Epoch  74 Batch  194/281   train_loss = 1.698\n",
      "Epoch  75 Batch   12/281   train_loss = 1.735\n",
      "Epoch  75 Batch  111/281   train_loss = 1.518\n",
      "Epoch  75 Batch  210/281   train_loss = 1.668\n",
      "Epoch  76 Batch   28/281   train_loss = 1.638\n",
      "Epoch  76 Batch  127/281   train_loss = 1.480\n",
      "Epoch  76 Batch  226/281   train_loss = 1.567\n",
      "Epoch  77 Batch   44/281   train_loss = 1.613\n",
      "Epoch  77 Batch  143/281   train_loss = 1.539\n",
      "Epoch  77 Batch  242/281   train_loss = 1.478\n",
      "Epoch  78 Batch   60/281   train_loss = 1.517\n",
      "Epoch  78 Batch  159/281   train_loss = 1.638\n",
      "Epoch  78 Batch  258/281   train_loss = 1.365\n",
      "Epoch  79 Batch   76/281   train_loss = 1.527\n",
      "Epoch  79 Batch  175/281   train_loss = 1.581\n",
      "Epoch  79 Batch  274/281   train_loss = 1.533\n",
      "Epoch  80 Batch   92/281   train_loss = 1.659\n",
      "Epoch  80 Batch  191/281   train_loss = 1.521\n",
      "Epoch  81 Batch    9/281   train_loss = 1.440\n",
      "Epoch  81 Batch  108/281   train_loss = 1.522\n",
      "Epoch  81 Batch  207/281   train_loss = 1.505\n",
      "Epoch  82 Batch   25/281   train_loss = 1.361\n",
      "Epoch  82 Batch  124/281   train_loss = 1.402\n",
      "Epoch  82 Batch  223/281   train_loss = 1.350\n",
      "Epoch  83 Batch   41/281   train_loss = 1.378\n",
      "Epoch  83 Batch  140/281   train_loss = 1.472\n",
      "Epoch  83 Batch  239/281   train_loss = 1.238\n",
      "Epoch  84 Batch   57/281   train_loss = 1.321\n",
      "Epoch  84 Batch  156/281   train_loss = 1.478\n",
      "Epoch  84 Batch  255/281   train_loss = 1.399\n",
      "Epoch  85 Batch   73/281   train_loss = 1.370\n",
      "Epoch  85 Batch  172/281   train_loss = 1.364\n",
      "Epoch  85 Batch  271/281   train_loss = 1.326\n",
      "Epoch  86 Batch   89/281   train_loss = 1.368\n",
      "Epoch  86 Batch  188/281   train_loss = 1.160\n",
      "Epoch  87 Batch    6/281   train_loss = 1.268\n",
      "Epoch  87 Batch  105/281   train_loss = 1.390\n",
      "Epoch  87 Batch  204/281   train_loss = 1.217\n",
      "Epoch  88 Batch   22/281   train_loss = 1.198\n",
      "Epoch  88 Batch  121/281   train_loss = 1.279\n",
      "Epoch  88 Batch  220/281   train_loss = 1.282\n",
      "Epoch  89 Batch   38/281   train_loss = 1.340\n",
      "Epoch  89 Batch  137/281   train_loss = 1.211\n",
      "Epoch  89 Batch  236/281   train_loss = 1.295\n",
      "Epoch  90 Batch   54/281   train_loss = 1.283\n",
      "Epoch  90 Batch  153/281   train_loss = 1.252\n",
      "Epoch  90 Batch  252/281   train_loss = 1.118\n",
      "Epoch  91 Batch   70/281   train_loss = 1.313\n",
      "Epoch  91 Batch  169/281   train_loss = 1.279\n",
      "Epoch  91 Batch  268/281   train_loss = 1.267\n",
      "Epoch  92 Batch   86/281   train_loss = 1.272\n",
      "Epoch  92 Batch  185/281   train_loss = 1.186\n",
      "Epoch  93 Batch    3/281   train_loss = 1.131\n",
      "Epoch  93 Batch  102/281   train_loss = 1.287\n",
      "Epoch  93 Batch  201/281   train_loss = 1.117\n",
      "Epoch  94 Batch   19/281   train_loss = 1.175\n",
      "Epoch  94 Batch  118/281   train_loss = 1.250\n",
      "Epoch  94 Batch  217/281   train_loss = 1.208\n",
      "Epoch  95 Batch   35/281   train_loss = 1.118\n",
      "Epoch  95 Batch  134/281   train_loss = 1.182\n",
      "Epoch  95 Batch  233/281   train_loss = 1.095\n",
      "Epoch  96 Batch   51/281   train_loss = 1.238\n",
      "Epoch  96 Batch  150/281   train_loss = 1.087\n",
      "Epoch  96 Batch  249/281   train_loss = 1.066\n",
      "Epoch  97 Batch   67/281   train_loss = 1.018\n",
      "Epoch  97 Batch  166/281   train_loss = 1.139\n",
      "Epoch  97 Batch  265/281   train_loss = 1.045\n",
      "Epoch  98 Batch   83/281   train_loss = 1.077\n",
      "Epoch  98 Batch  182/281   train_loss = 1.135\n",
      "Epoch  99 Batch    0/281   train_loss = 1.023\n",
      "Epoch  99 Batch   99/281   train_loss = 1.094\n",
      "Epoch  99 Batch  198/281   train_loss = 0.998\n",
      "Epoch 100 Batch   16/281   train_loss = 1.053\n",
      "Epoch 100 Batch  115/281   train_loss = 1.155\n",
      "Epoch 100 Batch  214/281   train_loss = 1.101\n",
      "Epoch 101 Batch   32/281   train_loss = 0.974\n",
      "Epoch 101 Batch  131/281   train_loss = 1.112\n",
      "Epoch 101 Batch  230/281   train_loss = 1.048\n",
      "Epoch 102 Batch   48/281   train_loss = 1.060\n",
      "Epoch 102 Batch  147/281   train_loss = 1.092\n",
      "Epoch 102 Batch  246/281   train_loss = 1.044\n",
      "Epoch 103 Batch   64/281   train_loss = 1.074\n",
      "Epoch 103 Batch  163/281   train_loss = 1.090\n",
      "Epoch 103 Batch  262/281   train_loss = 0.955\n",
      "Epoch 104 Batch   80/281   train_loss = 0.991\n",
      "Epoch 104 Batch  179/281   train_loss = 1.059\n",
      "Epoch 104 Batch  278/281   train_loss = 0.924\n",
      "Epoch 105 Batch   96/281   train_loss = 1.033\n",
      "Epoch 105 Batch  195/281   train_loss = 1.026\n",
      "Epoch 106 Batch   13/281   train_loss = 0.962\n",
      "Epoch 106 Batch  112/281   train_loss = 1.071\n",
      "Epoch 106 Batch  211/281   train_loss = 0.909\n",
      "Epoch 107 Batch   29/281   train_loss = 0.924\n",
      "Epoch 107 Batch  128/281   train_loss = 0.948\n",
      "Epoch 107 Batch  227/281   train_loss = 0.950\n",
      "Epoch 108 Batch   45/281   train_loss = 0.894\n",
      "Epoch 108 Batch  144/281   train_loss = 0.980\n",
      "Epoch 108 Batch  243/281   train_loss = 0.877\n",
      "Epoch 109 Batch   61/281   train_loss = 0.887\n",
      "Epoch 109 Batch  160/281   train_loss = 0.989\n",
      "Epoch 109 Batch  259/281   train_loss = 0.845\n",
      "Epoch 110 Batch   77/281   train_loss = 0.838\n",
      "Epoch 110 Batch  176/281   train_loss = 0.900\n",
      "Epoch 110 Batch  275/281   train_loss = 0.815\n",
      "Epoch 111 Batch   93/281   train_loss = 0.973\n",
      "Epoch 111 Batch  192/281   train_loss = 0.942\n",
      "Epoch 112 Batch   10/281   train_loss = 0.821\n",
      "Epoch 112 Batch  109/281   train_loss = 0.904\n",
      "Epoch 112 Batch  208/281   train_loss = 0.834\n",
      "Epoch 113 Batch   26/281   train_loss = 0.797\n",
      "Epoch 113 Batch  125/281   train_loss = 0.868\n",
      "Epoch 113 Batch  224/281   train_loss = 0.942\n",
      "Epoch 114 Batch   42/281   train_loss = 0.857\n",
      "Epoch 114 Batch  141/281   train_loss = 0.821\n",
      "Epoch 114 Batch  240/281   train_loss = 0.876\n",
      "Epoch 115 Batch   58/281   train_loss = 0.871\n",
      "Epoch 115 Batch  157/281   train_loss = 0.878\n",
      "Epoch 115 Batch  256/281   train_loss = 0.799\n",
      "Epoch 116 Batch   74/281   train_loss = 0.933\n",
      "Epoch 116 Batch  173/281   train_loss = 0.764\n",
      "Epoch 116 Batch  272/281   train_loss = 0.814\n",
      "Epoch 117 Batch   90/281   train_loss = 0.821\n",
      "Epoch 117 Batch  189/281   train_loss = 0.817\n",
      "Epoch 118 Batch    7/281   train_loss = 0.892\n",
      "Epoch 118 Batch  106/281   train_loss = 0.820\n",
      "Epoch 118 Batch  205/281   train_loss = 0.841\n",
      "Epoch 119 Batch   23/281   train_loss = 0.769\n",
      "Epoch 119 Batch  122/281   train_loss = 0.706\n",
      "Epoch 119 Batch  221/281   train_loss = 0.760\n",
      "Epoch 120 Batch   39/281   train_loss = 0.787\n",
      "Epoch 120 Batch  138/281   train_loss = 0.810\n",
      "Epoch 120 Batch  237/281   train_loss = 0.763\n",
      "Epoch 121 Batch   55/281   train_loss = 0.735\n",
      "Epoch 121 Batch  154/281   train_loss = 0.795\n",
      "Epoch 121 Batch  253/281   train_loss = 0.828\n",
      "Epoch 122 Batch   71/281   train_loss = 0.708\n",
      "Epoch 122 Batch  170/281   train_loss = 0.778\n",
      "Epoch 122 Batch  269/281   train_loss = 0.730\n",
      "Epoch 123 Batch   87/281   train_loss = 0.772\n",
      "Epoch 123 Batch  186/281   train_loss = 0.732\n",
      "Epoch 124 Batch    4/281   train_loss = 0.743\n",
      "Epoch 124 Batch  103/281   train_loss = 0.822\n",
      "Epoch 124 Batch  202/281   train_loss = 0.743\n",
      "Epoch 125 Batch   20/281   train_loss = 0.674\n",
      "Epoch 125 Batch  119/281   train_loss = 0.703\n",
      "Epoch 125 Batch  218/281   train_loss = 0.691\n",
      "Epoch 126 Batch   36/281   train_loss = 0.696\n",
      "Epoch 126 Batch  135/281   train_loss = 0.730\n",
      "Epoch 126 Batch  234/281   train_loss = 0.768\n",
      "Epoch 127 Batch   52/281   train_loss = 0.696\n",
      "Epoch 127 Batch  151/281   train_loss = 0.741\n",
      "Epoch 127 Batch  250/281   train_loss = 0.652\n",
      "Epoch 128 Batch   68/281   train_loss = 0.718\n",
      "Epoch 128 Batch  167/281   train_loss = 0.676\n",
      "Epoch 128 Batch  266/281   train_loss = 0.676\n",
      "Epoch 129 Batch   84/281   train_loss = 0.686\n",
      "Epoch 129 Batch  183/281   train_loss = 0.714\n",
      "Epoch 130 Batch    1/281   train_loss = 0.620\n",
      "Epoch 130 Batch  100/281   train_loss = 0.737\n",
      "Epoch 130 Batch  199/281   train_loss = 0.695\n",
      "Epoch 131 Batch   17/281   train_loss = 0.642\n",
      "Epoch 131 Batch  116/281   train_loss = 0.635\n",
      "Epoch 131 Batch  215/281   train_loss = 0.613\n",
      "Epoch 132 Batch   33/281   train_loss = 0.606\n",
      "Epoch 132 Batch  132/281   train_loss = 0.596\n",
      "Epoch 132 Batch  231/281   train_loss = 0.626\n",
      "Epoch 133 Batch   49/281   train_loss = 0.608\n",
      "Epoch 133 Batch  148/281   train_loss = 0.518\n",
      "Epoch 133 Batch  247/281   train_loss = 0.596\n",
      "Epoch 134 Batch   65/281   train_loss = 0.550\n",
      "Epoch 134 Batch  164/281   train_loss = 0.670\n",
      "Epoch 134 Batch  263/281   train_loss = 0.639\n",
      "Epoch 135 Batch   81/281   train_loss = 0.522\n",
      "Epoch 135 Batch  180/281   train_loss = 0.683\n",
      "Epoch 135 Batch  279/281   train_loss = 0.537\n",
      "Epoch 136 Batch   97/281   train_loss = 0.633\n",
      "Epoch 136 Batch  196/281   train_loss = 0.601\n",
      "Epoch 137 Batch   14/281   train_loss = 0.618\n",
      "Epoch 137 Batch  113/281   train_loss = 0.673\n",
      "Epoch 137 Batch  212/281   train_loss = 0.704\n",
      "Epoch 138 Batch   30/281   train_loss = 0.548\n",
      "Epoch 138 Batch  129/281   train_loss = 0.575\n",
      "Epoch 138 Batch  228/281   train_loss = 0.610\n",
      "Epoch 139 Batch   46/281   train_loss = 0.633\n",
      "Epoch 139 Batch  145/281   train_loss = 0.513\n",
      "Epoch 139 Batch  244/281   train_loss = 0.551\n",
      "Epoch 140 Batch   62/281   train_loss = 0.599\n",
      "Epoch 140 Batch  161/281   train_loss = 0.637\n",
      "Epoch 140 Batch  260/281   train_loss = 0.561\n",
      "Epoch 141 Batch   78/281   train_loss = 0.570\n",
      "Epoch 141 Batch  177/281   train_loss = 0.633\n",
      "Epoch 141 Batch  276/281   train_loss = 0.631\n",
      "Epoch 142 Batch   94/281   train_loss = 0.579\n",
      "Epoch 142 Batch  193/281   train_loss = 0.614\n",
      "Epoch 143 Batch   11/281   train_loss = 0.567\n",
      "Epoch 143 Batch  110/281   train_loss = 0.645\n",
      "Epoch 143 Batch  209/281   train_loss = 0.537\n",
      "Epoch 144 Batch   27/281   train_loss = 0.508\n",
      "Epoch 144 Batch  126/281   train_loss = 0.554\n",
      "Epoch 144 Batch  225/281   train_loss = 0.525\n",
      "Epoch 145 Batch   43/281   train_loss = 0.562\n",
      "Epoch 145 Batch  142/281   train_loss = 0.557\n",
      "Epoch 145 Batch  241/281   train_loss = 0.576\n",
      "Epoch 146 Batch   59/281   train_loss = 0.594\n",
      "Epoch 146 Batch  158/281   train_loss = 0.515\n",
      "Epoch 146 Batch  257/281   train_loss = 0.490\n",
      "Epoch 147 Batch   75/281   train_loss = 0.592\n",
      "Epoch 147 Batch  174/281   train_loss = 0.576\n",
      "Epoch 147 Batch  273/281   train_loss = 0.518\n",
      "Epoch 148 Batch   91/281   train_loss = 0.585\n",
      "Epoch 148 Batch  190/281   train_loss = 0.574\n",
      "Epoch 149 Batch    8/281   train_loss = 0.404\n",
      "Epoch 149 Batch  107/281   train_loss = 0.580\n",
      "Epoch 149 Batch  206/281   train_loss = 0.560\n",
      "Epoch 150 Batch   24/281   train_loss = 0.468\n",
      "Epoch 150 Batch  123/281   train_loss = 0.497\n",
      "Epoch 150 Batch  222/281   train_loss = 0.429\n",
      "Epoch 151 Batch   40/281   train_loss = 0.448\n",
      "Epoch 151 Batch  139/281   train_loss = 0.610\n",
      "Epoch 151 Batch  238/281   train_loss = 0.527\n",
      "Epoch 152 Batch   56/281   train_loss = 0.482\n",
      "Epoch 152 Batch  155/281   train_loss = 0.490\n",
      "Epoch 152 Batch  254/281   train_loss = 0.442\n",
      "Epoch 153 Batch   72/281   train_loss = 0.479\n",
      "Epoch 153 Batch  171/281   train_loss = 0.555\n",
      "Epoch 153 Batch  270/281   train_loss = 0.436\n",
      "Epoch 154 Batch   88/281   train_loss = 0.460\n",
      "Epoch 154 Batch  187/281   train_loss = 0.462\n",
      "Epoch 155 Batch    5/281   train_loss = 0.512\n",
      "Epoch 155 Batch  104/281   train_loss = 0.442\n",
      "Epoch 155 Batch  203/281   train_loss = 0.447\n",
      "Epoch 156 Batch   21/281   train_loss = 0.470\n",
      "Epoch 156 Batch  120/281   train_loss = 0.465\n",
      "Epoch 156 Batch  219/281   train_loss = 0.483\n",
      "Epoch 157 Batch   37/281   train_loss = 0.468\n",
      "Epoch 157 Batch  136/281   train_loss = 0.496\n",
      "Epoch 157 Batch  235/281   train_loss = 0.433\n",
      "Epoch 158 Batch   53/281   train_loss = 0.504\n",
      "Epoch 158 Batch  152/281   train_loss = 0.477\n",
      "Epoch 158 Batch  251/281   train_loss = 0.410\n",
      "Epoch 159 Batch   69/281   train_loss = 0.469\n",
      "Epoch 159 Batch  168/281   train_loss = 0.443\n",
      "Epoch 159 Batch  267/281   train_loss = 0.465\n",
      "Epoch 160 Batch   85/281   train_loss = 0.433\n",
      "Epoch 160 Batch  184/281   train_loss = 0.438\n",
      "Epoch 161 Batch    2/281   train_loss = 0.397\n",
      "Epoch 161 Batch  101/281   train_loss = 0.394\n",
      "Epoch 161 Batch  200/281   train_loss = 0.424\n",
      "Epoch 162 Batch   18/281   train_loss = 0.451\n",
      "Epoch 162 Batch  117/281   train_loss = 0.395\n",
      "Epoch 162 Batch  216/281   train_loss = 0.428\n",
      "Epoch 163 Batch   34/281   train_loss = 0.398\n",
      "Epoch 163 Batch  133/281   train_loss = 0.413\n",
      "Epoch 163 Batch  232/281   train_loss = 0.431\n",
      "Epoch 164 Batch   50/281   train_loss = 0.464\n",
      "Epoch 164 Batch  149/281   train_loss = 0.494\n",
      "Epoch 164 Batch  248/281   train_loss = 0.432\n",
      "Epoch 165 Batch   66/281   train_loss = 0.449\n",
      "Epoch 165 Batch  165/281   train_loss = 0.425\n",
      "Epoch 165 Batch  264/281   train_loss = 0.467\n",
      "Epoch 166 Batch   82/281   train_loss = 0.390\n",
      "Epoch 166 Batch  181/281   train_loss = 0.469\n",
      "Epoch 166 Batch  280/281   train_loss = 0.396\n",
      "Epoch 167 Batch   98/281   train_loss = 0.463\n",
      "Epoch 167 Batch  197/281   train_loss = 0.477\n",
      "Epoch 168 Batch   15/281   train_loss = 0.439\n",
      "Epoch 168 Batch  114/281   train_loss = 0.424\n",
      "Epoch 168 Batch  213/281   train_loss = 0.425\n",
      "Epoch 169 Batch   31/281   train_loss = 0.400\n",
      "Epoch 169 Batch  130/281   train_loss = 0.369\n",
      "Epoch 169 Batch  229/281   train_loss = 0.429\n",
      "Epoch 170 Batch   47/281   train_loss = 0.413\n",
      "Epoch 170 Batch  146/281   train_loss = 0.402\n",
      "Epoch 170 Batch  245/281   train_loss = 0.389\n",
      "Epoch 171 Batch   63/281   train_loss = 0.378\n",
      "Epoch 171 Batch  162/281   train_loss = 0.398\n",
      "Epoch 171 Batch  261/281   train_loss = 0.376\n",
      "Epoch 172 Batch   79/281   train_loss = 0.396\n",
      "Epoch 172 Batch  178/281   train_loss = 0.415\n",
      "Epoch 172 Batch  277/281   train_loss = 0.385\n",
      "Epoch 173 Batch   95/281   train_loss = 0.573\n",
      "Epoch 173 Batch  194/281   train_loss = 0.396\n",
      "Epoch 174 Batch   12/281   train_loss = 0.396\n",
      "Epoch 174 Batch  111/281   train_loss = 0.378\n",
      "Epoch 174 Batch  210/281   train_loss = 0.392\n",
      "Epoch 175 Batch   28/281   train_loss = 0.348\n",
      "Epoch 175 Batch  127/281   train_loss = 0.401\n",
      "Epoch 175 Batch  226/281   train_loss = 0.343\n",
      "Epoch 176 Batch   44/281   train_loss = 0.395\n",
      "Epoch 176 Batch  143/281   train_loss = 0.409\n",
      "Epoch 176 Batch  242/281   train_loss = 0.395\n",
      "Epoch 177 Batch   60/281   train_loss = 0.414\n",
      "Epoch 177 Batch  159/281   train_loss = 0.402\n",
      "Epoch 177 Batch  258/281   train_loss = 0.350\n",
      "Epoch 178 Batch   76/281   train_loss = 0.393\n",
      "Epoch 178 Batch  175/281   train_loss = 0.423\n",
      "Epoch 178 Batch  274/281   train_loss = 0.380\n",
      "Epoch 179 Batch   92/281   train_loss = 0.393\n",
      "Epoch 179 Batch  191/281   train_loss = 0.383\n",
      "Epoch 180 Batch    9/281   train_loss = 0.368\n",
      "Epoch 180 Batch  108/281   train_loss = 0.347\n",
      "Epoch 180 Batch  207/281   train_loss = 0.394\n",
      "Epoch 181 Batch   25/281   train_loss = 0.343\n",
      "Epoch 181 Batch  124/281   train_loss = 0.418\n",
      "Epoch 181 Batch  223/281   train_loss = 0.370\n",
      "Epoch 182 Batch   41/281   train_loss = 0.323\n",
      "Epoch 182 Batch  140/281   train_loss = 0.381\n",
      "Epoch 182 Batch  239/281   train_loss = 0.343\n",
      "Epoch 183 Batch   57/281   train_loss = 0.314\n",
      "Epoch 183 Batch  156/281   train_loss = 0.423\n",
      "Epoch 183 Batch  255/281   train_loss = 0.398\n",
      "Epoch 184 Batch   73/281   train_loss = 0.329\n",
      "Epoch 184 Batch  172/281   train_loss = 0.351\n",
      "Epoch 184 Batch  271/281   train_loss = 0.351\n",
      "Epoch 185 Batch   89/281   train_loss = 0.341\n",
      "Epoch 185 Batch  188/281   train_loss = 0.349\n",
      "Epoch 186 Batch    6/281   train_loss = 0.326\n",
      "Epoch 186 Batch  105/281   train_loss = 0.387\n",
      "Epoch 186 Batch  204/281   train_loss = 0.342\n",
      "Epoch 187 Batch   22/281   train_loss = 0.325\n",
      "Epoch 187 Batch  121/281   train_loss = 0.353\n",
      "Epoch 187 Batch  220/281   train_loss = 0.316\n",
      "Epoch 188 Batch   38/281   train_loss = 0.337\n",
      "Epoch 188 Batch  137/281   train_loss = 0.333\n",
      "Epoch 188 Batch  236/281   train_loss = 0.341\n",
      "Epoch 189 Batch   54/281   train_loss = 0.335\n",
      "Epoch 189 Batch  153/281   train_loss = 0.332\n",
      "Epoch 189 Batch  252/281   train_loss = 0.328\n",
      "Epoch 190 Batch   70/281   train_loss = 0.364\n",
      "Epoch 190 Batch  169/281   train_loss = 0.350\n",
      "Epoch 190 Batch  268/281   train_loss = 0.363\n",
      "Epoch 191 Batch   86/281   train_loss = 0.355\n",
      "Epoch 191 Batch  185/281   train_loss = 0.334\n",
      "Epoch 192 Batch    3/281   train_loss = 0.344\n",
      "Epoch 192 Batch  102/281   train_loss = 0.363\n",
      "Epoch 192 Batch  201/281   train_loss = 0.345\n",
      "Epoch 193 Batch   19/281   train_loss = 0.314\n",
      "Epoch 193 Batch  118/281   train_loss = 0.345\n",
      "Epoch 193 Batch  217/281   train_loss = 0.369\n",
      "Epoch 194 Batch   35/281   train_loss = 0.331\n",
      "Epoch 194 Batch  134/281   train_loss = 0.357\n",
      "Epoch 194 Batch  233/281   train_loss = 0.353\n",
      "Epoch 195 Batch   51/281   train_loss = 0.354\n",
      "Epoch 195 Batch  150/281   train_loss = 0.333\n",
      "Epoch 195 Batch  249/281   train_loss = 0.318\n",
      "Epoch 196 Batch   67/281   train_loss = 0.336\n",
      "Epoch 196 Batch  166/281   train_loss = 0.388\n",
      "Epoch 196 Batch  265/281   train_loss = 0.303\n",
      "Epoch 197 Batch   83/281   train_loss = 0.307\n",
      "Epoch 197 Batch  182/281   train_loss = 0.348\n",
      "Epoch 198 Batch    0/281   train_loss = 0.318\n",
      "Epoch 198 Batch   99/281   train_loss = 0.347\n",
      "Epoch 198 Batch  198/281   train_loss = 0.309\n",
      "Epoch 199 Batch   16/281   train_loss = 0.313\n",
      "Epoch 199 Batch  115/281   train_loss = 0.358\n",
      "Epoch 199 Batch  214/281   train_loss = 0.322\n",
      "Model Trained and Saved\n"
     ]
    }
   ],
   "source": [
    "\"\"\"\n",
    "DON'T MODIFY ANYTHING IN THIS CELL\n",
    "\"\"\"\n",
    "batches = get_batches(int_text, batch_size, seq_length)\n",
    "\n",
    "with tf.Session(graph=train_graph) as sess:\n",
    "    sess.run(tf.global_variables_initializer())\n",
    "\n",
    "    for epoch_i in range(num_epochs):\n",
    "        state = sess.run(initial_state, {input_text: batches[0][0]})\n",
    "\n",
    "        for batch_i, (x, y) in enumerate(batches):\n",
    "            # x and y shapes are batch_size x seq_len\n",
    "            feed = {\n",
    "                input_text: x,\n",
    "                targets: y,\n",
    "                initial_state: state,\n",
    "                lr: learning_rate}\n",
    "            train_loss, state, _ = sess.run([cost, final_state, train_op], feed)\n",
    "\n",
    "            # Show every <show_every_n_batches> batches\n",
    "            if (epoch_i * len(batches) + batch_i) % show_every_n_batches == 0:\n",
    "                print('Epoch {:>3} Batch {:>4}/{}   train_loss = {:.3f}'.format(\n",
    "                    epoch_i,\n",
    "                    batch_i,\n",
    "                    len(batches),\n",
    "                    train_loss))\n",
    "\n",
    "    # Save Model\n",
    "    saver = tf.train.Saver()\n",
    "    saver.save(sess, save_dir)\n",
    "    print('Model Trained and Saved')"
   ]
  },
  {
   "cell_type": "markdown",
   "metadata": {
    "deletable": true,
    "editable": true
   },
   "source": [
    "## Save Parameters\n",
    "Save `seq_length` and `save_dir` for generating a new TV script."
   ]
  },
  {
   "cell_type": "code",
   "execution_count": 17,
   "metadata": {
    "collapsed": false,
    "deletable": true,
    "editable": true
   },
   "outputs": [],
   "source": [
    "\"\"\"\n",
    "DON'T MODIFY ANYTHING IN THIS CELL\n",
    "\"\"\"\n",
    "# Save parameters for checkpoint\n",
    "helper.save_params((seq_length, save_dir))"
   ]
  },
  {
   "cell_type": "markdown",
   "metadata": {
    "deletable": true,
    "editable": true
   },
   "source": [
    "# Checkpoint"
   ]
  },
  {
   "cell_type": "code",
   "execution_count": 18,
   "metadata": {
    "collapsed": false,
    "deletable": true,
    "editable": true
   },
   "outputs": [],
   "source": [
    "\"\"\"\n",
    "DON'T MODIFY ANYTHING IN THIS CELL\n",
    "\"\"\"\n",
    "import tensorflow as tf\n",
    "import numpy as np\n",
    "import helper\n",
    "import problem_unittests as tests\n",
    "\n",
    "_, vocab_to_int, int_to_vocab, token_dict = helper.load_preprocess()\n",
    "seq_length, load_dir = helper.load_params()"
   ]
  },
  {
   "cell_type": "markdown",
   "metadata": {
    "deletable": true,
    "editable": true
   },
   "source": [
    "## Implement Generate Functions\n",
    "### Get Tensors\n",
    "Get tensors from `loaded_graph` using the function [`get_tensor_by_name()`](https://www.tensorflow.org/api_docs/python/tf/Graph#get_tensor_by_name).  Get the tensors using the following names:\n",
    "- \"input:0\"\n",
    "- \"initial_state:0\"\n",
    "- \"final_state:0\"\n",
    "- \"probs:0\"\n",
    "\n",
    "Return the tensors in the following tuple `(InputTensor, InitialStateTensor, FinalStateTensor, ProbsTensor)` "
   ]
  },
  {
   "cell_type": "code",
   "execution_count": 19,
   "metadata": {
    "collapsed": false,
    "deletable": true,
    "editable": true
   },
   "outputs": [
    {
     "name": "stdout",
     "output_type": "stream",
     "text": [
      "Tests Passed\n"
     ]
    }
   ],
   "source": [
    "def get_tensors(loaded_graph):\n",
    "    \"\"\"\n",
    "    Get input, initial state, final state, and probabilities tensor from <loaded_graph>\n",
    "    :param loaded_graph: TensorFlow graph loaded from file\n",
    "    :return: Tuple (InputTensor, InitialStateTensor, FinalStateTensor, ProbsTensor)\n",
    "    \"\"\"\n",
    "    # TODO: Implement Function\n",
    "    return loaded_graph.get_tensor_by_name(\"input:0\"), loaded_graph.get_tensor_by_name(\"initial_state:0\"), \\\n",
    "        loaded_graph.get_tensor_by_name(\"final_state:0\"), loaded_graph.get_tensor_by_name(\"probs:0\")\n",
    "\n",
    "\n",
    "\"\"\"\n",
    "DON'T MODIFY ANYTHING IN THIS CELL THAT IS BELOW THIS LINE\n",
    "\"\"\"\n",
    "tests.test_get_tensors(get_tensors)"
   ]
  },
  {
   "cell_type": "markdown",
   "metadata": {
    "deletable": true,
    "editable": true
   },
   "source": [
    "### Choose Word\n",
    "Implement the `pick_word()` function to select the next word using `probabilities`."
   ]
  },
  {
   "cell_type": "code",
   "execution_count": 20,
   "metadata": {
    "collapsed": false,
    "deletable": true,
    "editable": true
   },
   "outputs": [
    {
     "name": "stdout",
     "output_type": "stream",
     "text": [
      "Tests Passed\n"
     ]
    }
   ],
   "source": [
    "def pick_word(probabilities, int_to_vocab):\n",
    "    \"\"\"\n",
    "    Pick the next word in the generated text\n",
    "    :param probabilities: Probabilites of the next word\n",
    "    :param int_to_vocab: Dictionary of word ids as the keys and words as the values\n",
    "    :return: String of the predicted word\n",
    "    \"\"\"\n",
    "    # TODO: Implement Function\n",
    "    return int_to_vocab[np.argmax(probabilities)]\n",
    "\n",
    "\n",
    "\"\"\"\n",
    "DON'T MODIFY ANYTHING IN THIS CELL THAT IS BELOW THIS LINE\n",
    "\"\"\"\n",
    "tests.test_pick_word(pick_word)"
   ]
  },
  {
   "cell_type": "markdown",
   "metadata": {
    "deletable": true,
    "editable": true
   },
   "source": [
    "## Generate TV Script\n",
    "This will generate the TV script for you.  Set `gen_length` to the length of TV script you want to generate."
   ]
  },
  {
   "cell_type": "code",
   "execution_count": 28,
   "metadata": {
    "collapsed": false,
    "deletable": true,
    "editable": true
   },
   "outputs": [
    {
     "name": "stdout",
     "output_type": "stream",
     "text": [
      "perché mi piace in un albergo,\n",
      "se senza che questa ancor, che non fossi\n",
      "avesse né padrone al male abbia troppo.\n",
      "già mi mostrò sì veloce vendetta\n",
      "posto o da chi torni il signor mio),\n",
      "di questo accesi vi fur secondo pieno,\n",
      "e ben io ne fe' ne la città del regno,\n",
      "de la chiesa del core un duca viene,\n",
      "che per dare il suo nome mi fu in foce;\n",
      "che se con mille femine non stima\n",
      "ch'io vi dicea un tempo da principio in uso\n",
      "che questo non v'è mai più vero uom possente,\n",
      "che con lui non lo combatti né vista\n",
      "che fosse in arme d'esser gran assedio,\n",
      "per andar dove avea il giovine la dura.\n",
      "\n",
      "45\n",
      "fatto ella l'arme per questo ch'io vo'\n",
      "mi son padre, ed or molto or questo.\n",
      "or(disse il re gradasso e con patto?\n",
      "ma per lui fosse una sorte sola\n",
      "pudica che fa gl'incanti né e a cavallo.\n",
      "\n",
      "50\n",
      "volse che 'l pregio\n"
     ]
    }
   ],
   "source": [
    "#print(vocab_to_int)\n",
    "\n",
    "gen_length = 200\n",
    "prime_word = 'perché mi piace'\n",
    "prime_word = str.lower(prime_word)\n",
    "\n",
    "\"\"\"\n",
    "DON'T MODIFY ANYTHING IN THIS CELL THAT IS BELOW THIS LINE\n",
    "\"\"\"\n",
    "loaded_graph = tf.Graph()\n",
    "with tf.Session(graph=loaded_graph) as sess:\n",
    "    # Load saved model\n",
    "    loader = tf.train.import_meta_graph(load_dir + '.meta')\n",
    "    loader.restore(sess, load_dir)\n",
    "\n",
    "    # Get Tensors from loaded model\n",
    "    input_text, initial_state, final_state, probs = get_tensors(loaded_graph)\n",
    "\n",
    "    # Sentences generation setup\n",
    "    gen_sentences = prime_word.split()\n",
    "    prev_state = sess.run(initial_state, {input_text: np.array([[1]])})\n",
    "\n",
    "    # Generate sentences\n",
    "    for n in range(gen_length):\n",
    "        # Dynamic Input\n",
    "        dyn_input = [[vocab_to_int[word] for word in gen_sentences[-seq_length:]]]\n",
    "        dyn_seq_length = len(dyn_input[0])\n",
    "\n",
    "        # Get Prediction\n",
    "        probabilities, prev_state = sess.run(\n",
    "            [probs, final_state],\n",
    "            {input_text: dyn_input, initial_state: prev_state})\n",
    "        \n",
    "        pred_word = pick_word(probabilities[dyn_seq_length-1], int_to_vocab)\n",
    "\n",
    "        gen_sentences.append(pred_word)\n",
    "    \n",
    "    # Remove tokens\n",
    "    tv_script = ' '.join(gen_sentences)\n",
    "    for key, token in token_dict.items():\n",
    "        ending = ' ' if key in ['\\n', '(', '\"'] else ''\n",
    "        tv_script = tv_script.replace(' ' + token.lower(), key)\n",
    "    tv_script = tv_script.replace('\\n ', '\\n')\n",
    "    tv_script = tv_script.replace('( ', '(')\n",
    "        \n",
    "    print(tv_script)"
   ]
  },
  {
   "cell_type": "markdown",
   "metadata": {
    "deletable": true,
    "editable": true
   },
   "source": [
    "# The TV Script is Nonsensical\n",
    "It's ok if the TV script doesn't make any sense.  We trained on less than a megabyte of text.  In order to get good results, you'll have to use a smaller vocabulary or get more data.  Luckly there's more data!  As we mentioned in the begging of this project, this is a subset of [another dataset](https://www.kaggle.com/wcukierski/the-simpsons-by-the-data).  We didn't have you train on all the data, because that would take too long.  However, you are free to train your neural network on all the data.  After you complete the project, of course.\n",
    "# Submitting This Project\n",
    "When submitting this project, make sure to run all the cells before saving the notebook. Save the notebook file as \"dlnd_tv_script_generation.ipynb\" and save it as a HTML file under \"File\" -> \"Download as\". Include the \"helper.py\" and \"problem_unittests.py\" files in your submission."
   ]
  }
 ],
 "metadata": {
  "kernelspec": {
   "display_name": "Python 3",
   "language": "python",
   "name": "python3"
  },
  "language_info": {
   "codemirror_mode": {
    "name": "ipython",
    "version": 3
   },
   "file_extension": ".py",
   "mimetype": "text/x-python",
   "name": "python",
   "nbconvert_exporter": "python",
   "pygments_lexer": "ipython3",
   "version": "3.5.3"
  }
 },
 "nbformat": 4,
 "nbformat_minor": 0
}
